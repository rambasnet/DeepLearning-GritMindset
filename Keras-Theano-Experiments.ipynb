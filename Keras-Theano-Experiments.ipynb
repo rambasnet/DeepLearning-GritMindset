{
 "cells": [
  {
   "cell_type": "markdown",
   "metadata": {
    "colab_type": "text",
    "id": "view-in-github"
   },
   "source": [
    "<a href=\"https://colab.research.google.com/github/rambasnet/DeepLearningMaliciousURLs/blob/master/Keras-Tensorflow-Experiments.ipynb\" target=\"_parent\"><img src=\"https://colab.research.google.com/assets/colab-badge.svg\" alt=\"Open In Colab\"/></a>"
   ]
  },
  {
   "cell_type": "markdown",
   "metadata": {
    "colab_type": "text",
    "id": "SFAQJfeWplvv"
   },
   "source": [
    "# Keras-Theano Experiments"
   ]
  },
  {
   "cell_type": "markdown",
   "metadata": {
    "colab_type": "text",
    "id": "47GgPW0G0Pi7"
   },
   "source": [
    "## Import libraries"
   ]
  },
  {
   "cell_type": "code",
   "execution_count": 35,
   "metadata": {},
   "outputs": [
    {
     "name": "stdout",
     "output_type": "stream",
     "text": [
      "Collecting seaborn\n",
      "\u001b[?25l  Downloading https://files.pythonhosted.org/packages/a8/76/220ba4420459d9c4c9c9587c6ce607bf56c25b3d3d2de62056efe482dadc/seaborn-0.9.0-py3-none-any.whl (208kB)\n",
      "\u001b[K     |████████████████████████████████| 215kB 446kB/s eta 0:00:01\n",
      "\u001b[?25hRequirement already satisfied: scipy>=0.14.0 in /Users/rbasnet/miniconda3/lib/python3.7/site-packages (from seaborn) (1.3.0)\n",
      "Requirement already satisfied: pandas>=0.15.2 in /Users/rbasnet/miniconda3/lib/python3.7/site-packages (from seaborn) (0.24.2)\n",
      "Requirement already satisfied: matplotlib>=1.4.3 in /Users/rbasnet/miniconda3/lib/python3.7/site-packages (from seaborn) (3.0.3)\n",
      "Requirement already satisfied: numpy>=1.9.3 in /Users/rbasnet/miniconda3/lib/python3.7/site-packages (from seaborn) (1.16.3)\n",
      "Requirement already satisfied: python-dateutil>=2.5.0 in /Users/rbasnet/miniconda3/lib/python3.7/site-packages (from pandas>=0.15.2->seaborn) (2.7.5)\n",
      "Requirement already satisfied: pytz>=2011k in /Users/rbasnet/miniconda3/lib/python3.7/site-packages (from pandas>=0.15.2->seaborn) (2019.1)\n",
      "Requirement already satisfied: cycler>=0.10 in /Users/rbasnet/miniconda3/lib/python3.7/site-packages (from matplotlib>=1.4.3->seaborn) (0.10.0)\n",
      "Requirement already satisfied: kiwisolver>=1.0.1 in /Users/rbasnet/miniconda3/lib/python3.7/site-packages (from matplotlib>=1.4.3->seaborn) (1.1.0)\n",
      "Requirement already satisfied: pyparsing!=2.0.4,!=2.1.2,!=2.1.6,>=2.0.1 in /Users/rbasnet/miniconda3/lib/python3.7/site-packages (from matplotlib>=1.4.3->seaborn) (2.4.0)\n",
      "Requirement already satisfied: six>=1.5 in /Users/rbasnet/miniconda3/lib/python3.7/site-packages (from python-dateutil>=2.5.0->pandas>=0.15.2->seaborn) (1.11.0)\n",
      "Requirement already satisfied: setuptools in /Users/rbasnet/miniconda3/lib/python3.7/site-packages (from kiwisolver>=1.0.1->matplotlib>=1.4.3->seaborn) (40.2.0)\n",
      "Installing collected packages: seaborn\n",
      "Successfully installed seaborn-0.9.0\n"
     ]
    }
   ],
   "source": [
    "! pip install seaborn"
   ]
  },
  {
   "cell_type": "code",
   "execution_count": 36,
   "metadata": {
    "colab": {
     "base_uri": "https://localhost:8080/",
     "height": 34
    },
    "colab_type": "code",
    "id": "sBMU4MElu9GB",
    "outputId": "dcc13efe-05f2-4ce5-cb2f-57108b6e3b4c"
   },
   "outputs": [
    {
     "name": "stdout",
     "output_type": "stream",
     "text": [
      "1.14.1-dev20190529\n",
      "theano\n"
     ]
    }
   ],
   "source": [
    "from __future__ import absolute_import, division, print_function, unicode_literals\n",
    "\n",
    "import shutil\n",
    "import numpy as np\n",
    "import pandas as pd\n",
    "import tensorflow as tf\n",
    "\n",
    "import csv\n",
    "import os\n",
    "import sys\n",
    "import glob\n",
    "import operator\n",
    "import time\n",
    "from timeit import default_timer as timer\n",
    "import datetime\n",
    "\n",
    "import matplotlib.pyplot as plt\n",
    "import seaborn as sn\n",
    "\n",
    "from keras.layers import Dense, Activation\n",
    "from keras.utils.np_utils import to_categorical, normalize\n",
    "\n",
    "from sklearn.model_selection import train_test_split, StratifiedShuffleSplit\n",
    "from sklearn.preprocessing import LabelEncoder, StandardScaler\n",
    "from sklearn.utils import shuffle\n",
    "from sklearn.metrics import confusion_matrix\n",
    "\n",
    "from tensorflow import keras\n",
    "from tensorflow.keras import layers\n",
    "from tensorflow.keras.models import Sequential, load_model\n",
    "from tensorflow.keras.layers import Dense, Activation, BatchNormalization, Dropout\n",
    "from tensorflow.keras.callbacks import TensorBoard\n",
    "from keras import backend as K\n",
    "\n",
    "print(tf.__version__)\n",
    "print(K.backend())\n",
    "assert K.backend() == 'theano', 'set backend to theano in ~/.keras/keras.json file'"
   ]
  },
  {
   "cell_type": "markdown",
   "metadata": {
    "colab_type": "text",
    "id": "MIqy2Xmc8HoD"
   },
   "source": [
    "### Check Dataset\n",
    "- if FinalDataset folder is not found, run bash script in Baseline-Experiments.ipynb"
   ]
  },
  {
   "cell_type": "code",
   "execution_count": 2,
   "metadata": {
    "colab": {
     "base_uri": "https://localhost:8080/",
     "height": 221
    },
    "colab_type": "code",
    "id": "zl2T8MRq8PNT",
    "outputId": "3a0b4bbd-6af4-4386-9944-09835a7645f3"
   },
   "outputs": [
    {
     "name": "stdout",
     "output_type": "stream",
     "text": [
      "All.csv                      Malware_Infogain.csv\r\n",
      "All.csv.pickle               Malware_Infogain_test.csv\r\n",
      "All.csvDroppedNaNCols.pickle Phishing.csv\r\n",
      "All_BestFirst.csv            Phishing_BestFirst.csv\r\n",
      "All_BestFirst_test.csv       Phishing_Infogain.csv\r\n",
      "All_Infogain.csv             Phishing_Infogain_test.csv\r\n",
      "All_Infogain_test.csv        Spam.csv\r\n",
      "Defacement.csv               Spam_BestFirst.csv\r\n",
      "Defacement_BestFirst.csv     Spam_BestFirst_test.csv\r\n",
      "Defacement_Infogain.csv      Spam_Infogain.csv\r\n",
      "Defacement_Infogain_test.csv Spam_Infogain_test.csv\r\n",
      "Malware.csv                  \u001b[34mURL\u001b[m\u001b[m\r\n",
      "Malware_BestFirst.csv        \u001b[34mmodels\u001b[m\u001b[m\r\n"
     ]
    }
   ],
   "source": [
    "! ls FinalDataset"
   ]
  },
  {
   "cell_type": "markdown",
   "metadata": {
    "colab_type": "text",
    "id": "IeCm3LP08XOy"
   },
   "source": [
    "### Set path to store results"
   ]
  },
  {
   "cell_type": "code",
   "execution_count": 3,
   "metadata": {
    "colab": {},
    "colab_type": "code",
    "id": "qJuZTgd0u_WG"
   },
   "outputs": [],
   "source": [
    "resultPath = 'results_keras_theano'\n",
    "if not os.path.exists(resultPath):\n",
    "   print('result path {} created.'.format(resultPath))\n",
    "   os.mkdir(resultPath)"
   ]
  },
  {
   "cell_type": "code",
   "execution_count": 4,
   "metadata": {
    "colab": {},
    "colab_type": "code",
    "id": "EHnzBhcavSR-"
   },
   "outputs": [],
   "source": [
    "model_name = \"init\""
   ]
  },
  {
   "cell_type": "markdown",
   "metadata": {
    "colab_type": "text",
    "id": "6Vo0Cwne9wRJ"
   },
   "source": [
    "## Load cleaned data\n",
    "- if All.csvDroppedNaNCols.pickle file doesn't exist in FinalDataset folder, run loadAndCleanData(csvFile) function in Baseline-Experiments-DroppedColumns.pynb"
   ]
  },
  {
   "cell_type": "code",
   "execution_count": 5,
   "metadata": {},
   "outputs": [],
   "source": [
    "dataset = 'All.csv'\n",
    "pickleDump = os.path.join('FinalDataset', '{}DroppedNaNCols.pickle'.format(dataset))\n",
    "df = pd.read_pickle(pickleDump)"
   ]
  },
  {
   "cell_type": "code",
   "execution_count": 61,
   "metadata": {
    "colab": {},
    "colab_type": "code",
    "id": "GB51N0iLCK9J"
   },
   "outputs": [],
   "source": [
    "def baseline_model(inputDim=-1,outputDim=-1):\n",
    "    global model_extension, experimentTitle\n",
    "    model = tf.keras.Sequential([\n",
    "        Dense(inputDim, activation='relu', input_shape=(inputDim,)),\n",
    "        BatchNormalization(),\n",
    "        Dropout(.5),\n",
    "        Dense(inputDim//2, activation='relu'),\n",
    "        BatchNormalization(),\n",
    "        Dropout(.5),\n",
    "        Dense(outputDim, activation='softmax')\n",
    "    ]) #This is the output layer\n",
    "\n",
    "    if outputDim > 2:\n",
    "        print('Categorical Cross-Entropy Loss Function')\n",
    "        model_extension = \"_categorical\"\n",
    "        experimentTitle = \"Categorical\"\n",
    "        model.compile(optimizer='adam',\n",
    "                 loss='categorical_crossentropy',\n",
    "                 metrics=['accuracy'])\n",
    "    else:\n",
    "        print('Binary Cross-Entropy Loss Function')\n",
    "        model_extension = \"_binary\"\n",
    "        experimentTitle = \"Binary\"\n",
    "        model.compile(optimizer='adam',\n",
    "                loss='binary_crossentropy',\n",
    "                metrics=['accuracy'])\n",
    "\n",
    "    return model"
   ]
  },
  {
   "cell_type": "code",
   "execution_count": 7,
   "metadata": {},
   "outputs": [],
   "source": [
    "# Split-out validation dataset\n",
    "def splitDataset(df):\n",
    "    array = df.values\n",
    "    # last attribute/column is label\n",
    "    labelIndex = len(df.columns)-1\n",
    "    X = array[:,0:labelIndex]\n",
    "    Y = array[:,labelIndex]\n",
    "    validation_size = 0.20\n",
    "    random_seed = 100\n",
    "    X_train, X_validation, Y_train, Y_validation = train_test_split(X, Y, \n",
    "                                                                    test_size=validation_size, \n",
    "                                                                    random_state=random_seed)\n",
    "    return X_train, X_validation, Y_train, Y_validation\n",
    "    "
   ]
  },
  {
   "cell_type": "code",
   "execution_count": 8,
   "metadata": {
    "colab": {},
    "colab_type": "code",
    "id": "zbiT-Sf9plwd"
   },
   "outputs": [],
   "source": [
    "def encode_labels(dataframe):\n",
    "    dataframe = dataframe.copy()\n",
    "    data_y=dataframe.pop(dep_var)\n",
    "    encoder = LabelEncoder()\n",
    "    encoder.fit(data_y)\n",
    "    data_y = encoder.transform(data_y)\n",
    "    dummy_y = to_categorical(data_y)\n",
    "    return dummy_y"
   ]
  },
  {
   "cell_type": "code",
   "execution_count": 9,
   "metadata": {
    "colab": {},
    "colab_type": "code",
    "id": "3aQvhWPU1H8v"
   },
   "outputs": [],
   "source": [
    "def plotAccuracy(title):\n",
    "    plt.plot(history.history['acc'])\n",
    "    plt.plot(history.history['val_acc'])\n",
    "    plt.title(title)\n",
    "    plt.ylabel('Accuracy')\n",
    "    plt.xlabel('Epoch')\n",
    "    plt.legend(['Train', 'Test'], loc='upper left')\n",
    "    plt.show()"
   ]
  },
  {
   "cell_type": "code",
   "execution_count": 10,
   "metadata": {
    "colab": {},
    "colab_type": "code",
    "id": "FCdjh6ZY--2M"
   },
   "outputs": [],
   "source": [
    "def plotLoss(title):\n",
    "    plt.plot(history.history['loss'])\n",
    "    plt.plot(history.history['val_loss'])\n",
    "    plt.title(title)\n",
    "    plt.ylabel('Loss')\n",
    "    plt.xlabel('Epoch')\n",
    "    plt.legend(['Train', 'Test'], loc='upper left')\n",
    "    plt.show()"
   ]
  },
  {
   "cell_type": "code",
   "execution_count": 70,
   "metadata": {
    "colab": {},
    "colab_type": "code",
    "id": "nMkpqsxYmSSo"
   },
   "outputs": [],
   "source": [
    "def plot_Experiment(history, y):\n",
    "    hist = pd.DataFrame(history.history)\n",
    "    hist['epoch'] = history.epoch\n",
    "\n",
    "    plt.figure()\n",
    "    plt.xlabel('Epoch')\n",
    "    plt.ylabel('Error')\n",
    "    plt.plot(hist['epoch'], hist['loss'],\n",
    "           label='Train Error')\n",
    "    plt.plot(hist['epoch'], hist['val_loss'],\n",
    "           label = 'Val Error')\n",
    "    plt.ylim([0,y])\n",
    "    plt.legend()\n",
    "\n",
    "    plt.show()"
   ]
  },
  {
   "cell_type": "markdown",
   "metadata": {},
   "source": [
    "## Create and train Theano Model"
   ]
  },
  {
   "cell_type": "code",
   "execution_count": 20,
   "metadata": {
    "colab": {},
    "colab_type": "code",
    "id": "U1bG2p566m8V"
   },
   "outputs": [],
   "source": [
    "# Function to determine train and validation indexes, \n",
    "# and fit the data to the model we constructed\n",
    "def trainModel(train_X, train_Y, early_stop=False):\n",
    "    random_seed = 10\n",
    "    epochs = 100\n",
    "    batch_size = 64\n",
    "    dep_var = label\n",
    "    dataFile = 'All.csv'\n",
    "    #10-fold cross validation, choosing random indices for training and validation\n",
    "    # KFolotS\n",
    "    sss = StratifiedShuffleSplit(n_splits=1, random_state=random_seed)\n",
    "    \n",
    "    # X is our data/features to train the model with\n",
    "    X = StandardScaler().fit_transform(train_X)\n",
    "    \n",
    "    # Y is our labels to classify the data\n",
    "    encoder = LabelEncoder()\n",
    "    encoder.fit(train_Y)\n",
    "    Y = encoder.transform(train_Y)\n",
    "    Y = to_categorical(Y) # one-hot encoding\n",
    "    #print(Y)\n",
    "    start_time = timer()\n",
    "    results = []\n",
    "    fold = 1\n",
    "    for train_indices, val_indices in sss.split(X, Y):\n",
    "        \n",
    "        xtrain, xval = X[train_indices], X[val_indices]\n",
    "        ytrain, yval = Y[train_indices], Y[val_indices]\n",
    "        #print(xtrain.shape)\n",
    "        #print(len(set(train_Y)))\n",
    "        inputDim = xtrain.shape[1]\n",
    "        outputDim = len(set(train_Y))\n",
    "        print(\"Running fold # {}\".format(fold))\n",
    "        fold += 1\n",
    "\n",
    "        model = baseline_model(inputDim, outputDim)\n",
    "        \n",
    "        time_gen = int(time.time())\n",
    "        \n",
    "        global model_name\n",
    "        model_name = f\"{dataFile}_{time_gen}\"\n",
    "\n",
    "        tensorboard = TensorBoard(log_dir='keras_theano_logs/{}/{}_{}'.format(experimentTitle, model_name, model_extension),update_freq='epoch')\n",
    "        if early_stop:\n",
    "            callbacks = [tensorboard, early_stop]\n",
    "        else:\n",
    "            callbacks = [tensorboard]\n",
    "        history = model.fit(xtrain, ytrain, epochs=epochs, validation_data=(xval, yval), callbacks=callbacks, batch_size=100, verbose=0)\n",
    "        results.append(history)\n",
    "         \n",
    "    elapsed_time = timer() - start_time\n",
    "    TimeSetup = str(datetime.timedelta(seconds=elapsed_time))\n",
    "    print(\"Time to complete {} [hour:min:sec]\".format(TimeSetup))   \n",
    "    return model, history, TimeSetup\n"
   ]
  },
  {
   "cell_type": "markdown",
   "metadata": {
    "colab_type": "text",
    "id": "f2zcKS_DAGcx"
   },
   "source": [
    "  ## Multi-class classification\n",
    "  \n",
    "  #### Total Samples for each Type"
   ]
  },
  {
   "cell_type": "code",
   "execution_count": 21,
   "metadata": {
    "colab": {
     "base_uri": "https://localhost:8080/",
     "height": 102
    },
    "colab_type": "code",
    "id": "NuFeBCWJABj9",
    "outputId": "6697ca53-5674-4892-d801-f8cf044299f5"
   },
   "outputs": [
    {
     "name": "stdout",
     "output_type": "stream",
     "text": [
      "| benign | 7781 |\n",
      "| spam | 6698 |\n",
      "| Defacement | 7930 |\n",
      "| malware | 6711 |\n",
      "| phishing | 7577 |\n"
     ]
    }
   ],
   "source": [
    "label = 'URL_Type_obf_Type'\n",
    "lblTypes=set(df[label])\n",
    "for lbl in lblTypes:\n",
    "    print('| {} | {} |'.format(lbl, len(df[df[label] == lbl].index)))"
   ]
  },
  {
   "cell_type": "code",
   "execution_count": 22,
   "metadata": {},
   "outputs": [
    {
     "data": {
      "text/plain": [
       "(36697, 73)"
      ]
     },
     "execution_count": 22,
     "metadata": {},
     "output_type": "execute_result"
    }
   ],
   "source": [
    "df.shape"
   ]
  },
  {
   "cell_type": "code",
   "execution_count": 23,
   "metadata": {
    "colab": {},
    "colab_type": "code",
    "id": "41We5rvNplxu"
   },
   "outputs": [
    {
     "name": "stdout",
     "output_type": "stream",
     "text": [
      "Running fold # 1\n",
      "Categorical Cross-Entropy Loss Function\n",
      "Time to complete 0:01:25.254654 [hour:min:sec]\n"
     ]
    }
   ],
   "source": [
    "X_train, X_validation, Y_train, Y_validation = splitDataset(df)\n",
    "model, history, TimeSetup = trainModel(X_train, Y_train)"
   ]
  },
  {
   "cell_type": "code",
   "execution_count": 73,
   "metadata": {
    "colab": {
     "base_uri": "https://localhost:8080/",
     "height": 906
    },
    "colab_type": "code",
    "id": "TUw-9Oj_Ka6D",
    "outputId": "c757c7fd-4190-475c-e9d7-b5d6d520b666"
   },
   "outputs": [
    {
     "data": {
      "image/png": "[encoded data removed]",
      "text/plain": [
       "<Figure size 432x288 with 1 Axes>"
      ]
     },
     "metadata": {
      "needs_background": "light"
     },
     "output_type": "display_data"
    }
   ],
   "source": [
    "plotLoss(history)"
   ]
  },
  {
   "cell_type": "markdown",
   "metadata": {
    "colab_type": "text",
    "id": "UeVn3oV7plyQ"
   },
   "source": [
    "#### Graph of Categorical Cross-Entropy Model"
   ]
  },
  {
   "cell_type": "code",
   "execution_count": 69,
   "metadata": {
    "colab": {
     "base_uri": "https://localhost:8080/",
     "height": 295
    },
    "colab_type": "code",
    "id": "GzH_f_T3plyU",
    "outputId": "5996d994-248a-4752-d2b8-b67bfff86b5d"
   },
   "outputs": [
    {
     "data": {
      "image/png": "[encoded data removed]",
      "text/plain": [
       "<Figure size 432x288 with 1 Axes>"
      ]
     },
     "metadata": {
      "needs_background": "light"
     },
     "output_type": "display_data"
    }
   ],
   "source": [
    "plotAccuracy('Categorical Model Accuracy')"
   ]
  },
  {
   "cell_type": "markdown",
   "metadata": {},
   "source": [
    "## Test our model using hold-out validation set"
   ]
  },
  {
   "cell_type": "code",
   "execution_count": 26,
   "metadata": {
    "colab": {
     "base_uri": "https://localhost:8080/",
     "height": 34
    },
    "colab_type": "code",
    "id": "a0jLyQXHplyG",
    "outputId": "d0b9ed32-6454-47d5-b769-4c4113a22c46"
   },
   "outputs": [
    {
     "name": "stdout",
     "output_type": "stream",
     "text": [
      "7340/7340 [==============================] - 0s 40us/sample\n"
     ]
    }
   ],
   "source": [
    "prediction_y = model.predict_classes(X_validation, batch_size=100, verbose=1)"
   ]
  },
  {
   "cell_type": "code",
   "execution_count": 32,
   "metadata": {},
   "outputs": [
    {
     "name": "stdout",
     "output_type": "stream",
     "text": [
      "[3 3 3 ... 3 3 3]\n"
     ]
    }
   ],
   "source": [
    "print(prediction_y)"
   ]
  },
  {
   "cell_type": "markdown",
   "metadata": {
    "colab_type": "text",
    "id": "44-OsF7tplyK"
   },
   "source": [
    "#### Confusion Matrix"
   ]
  },
  {
   "cell_type": "code",
   "execution_count": 37,
   "metadata": {
    "colab": {
     "base_uri": "https://localhost:8080/",
     "height": 286
    },
    "colab_type": "code",
    "id": "xjsWSmWvplyM",
    "outputId": "fb45ef78-80d7-401d-a980-8123885b3513"
   },
   "outputs": [
    {
     "name": "stdout",
     "output_type": "stream",
     "text": [
      "[2 0 3 ... 0 3 1]\n"
     ]
    },
    {
     "data": {
      "text/plain": [
       "<matplotlib.axes._subplots.AxesSubplot at 0x1c3b325860>"
      ]
     },
     "execution_count": 37,
     "metadata": {},
     "output_type": "execute_result"
    },
    {
     "data": {
      "image/png": "[encoded data removed]",
      "text/plain": [
       "<Figure size 432x288 with 2 Axes>"
      ]
     },
     "metadata": {
      "needs_background": "light"
     },
     "output_type": "display_data"
    }
   ],
   "source": [
    "y=LabelEncoder().fit_transform(Y_validation)\n",
    "print(y)\n",
    "cm = confusion_matrix(y, prediction_y)\n",
    "sn.heatmap(cm, annot=True, fmt='g', cmap='Blues', xticklabels=['Defacement','Benign','Malware','Phishing','Spam'],\n",
    "           yticklabels=['Defacement','Benign','Malware','Phishing','Spam'])"
   ]
  },
  {
   "cell_type": "code",
   "execution_count": 62,
   "metadata": {
    "colab": {
     "base_uri": "https://localhost:8080/",
     "height": 295
    },
    "colab_type": "code",
    "id": "_hdnJn-I--5w",
    "outputId": "9c49689b-b8fd-4daa-8879-8bb3a622ba2c",
    "scrolled": true
   },
   "outputs": [
    {
     "name": "stdout",
     "output_type": "stream",
     "text": [
      "[0 1 4 ... 0 1 1]\n",
      "Categorical Cross-Entropy Loss Function\n",
      "Train on 29357 samples\n",
      "Epoch 1/10\n",
      "29357/29357 [==============================] - 3s 115us/sample - loss: 1.1371 - acc: 0.5845\n",
      "Epoch 2/10\n",
      "29357/29357 [==============================] - 3s 91us/sample - loss: 0.7921 - acc: 0.7117\n",
      "Epoch 3/10\n",
      "29357/29357 [==============================] - 2s 81us/sample - loss: 0.6849 - acc: 0.7556\n",
      "Epoch 4/10\n",
      "29357/29357 [==============================] - 2s 83us/sample - loss: 0.6276 - acc: 0.7793\n",
      "Epoch 5/10\n",
      "29357/29357 [==============================] - 3s 87us/sample - loss: 0.5909 - acc: 0.7900\n",
      "Epoch 6/10\n",
      "29357/29357 [==============================] - 2s 84us/sample - loss: 0.5618 - acc: 0.8002\n",
      "Epoch 7/10\n",
      "29357/29357 [==============================] - 2s 80us/sample - loss: 0.5366 - acc: 0.8099\n",
      "Epoch 8/10\n",
      "29357/29357 [==============================] - 2s 84us/sample - loss: 0.5243 - acc: 0.8151\n",
      "Epoch 9/10\n",
      "29357/29357 [==============================] - 3s 89us/sample - loss: 0.5060 - acc: 0.8205\n",
      "Epoch 10/10\n",
      "29357/29357 [==============================] - 2s 82us/sample - loss: 0.4958 - acc: 0.8278\n",
      "7340/7340 [==============================] - 0s 52us/sample\n",
      "7340/7340 [==============================] - 0s 58us/sample - loss: 53.4306 - acc: 0.2395\n",
      "[53.43056367463572, 0.23950954]\n",
      "[[ 245    0    0 1349    0]\n",
      " [   5    0    0 1536    0]\n",
      " [  22    0    0 1345    0]\n",
      " [  10    0    0 1513    0]\n",
      " [ 107    0    0 1208    0]]\n"
     ]
    },
    {
     "data": {
      "text/plain": [
       "<matplotlib.axes._subplots.AxesSubplot at 0x1c3e1f7e48>"
      ]
     },
     "execution_count": 62,
     "metadata": {},
     "output_type": "execute_result"
    },
    {
     "data": {
      "image/png": "[encoded data removed]",
      "text/plain": [
       "<Figure size 432x288 with 2 Axes>"
      ]
     },
     "metadata": {
      "needs_background": "light"
     },
     "output_type": "display_data"
    }
   ],
   "source": [
    "# X is our data/features to train the model with\n",
    "X = StandardScaler().fit_transform(X_train)\n",
    "epochs = 100\n",
    "# Y is our labels to classify the data\n",
    "encoder = LabelEncoder()\n",
    "encoder.fit(Y_train)\n",
    "Y = encoder.transform(Y_train)\n",
    "print(Y)\n",
    "Y = to_categorical(Y) # one-hot encoding\n",
    "inputDim = X_train.shape[1]\n",
    "outputDim = len(set(Y_train))\n",
    "\n",
    "actual_Y = LabelEncoder().fit_transform(Y_validation)\n",
    "\n",
    "model = baseline_model(inputDim, outputDim)\n",
    "result = model.fit(X, Y, epochs=10)\n",
    "predicted_Y = model.predict_classes(X_validation, batch_size=100, verbose=1)\n",
    "score = model.evaluate(X_validation, to_categorical(actual_Y), batch_size=128)\n",
    "print(score)\n",
    "cm = confusion_matrix(actual_Y, predicted_Y)\n",
    "print(cm)\n",
    "sn.heatmap(cm, annot=True, fmt='g', cmap='Blues', xticklabels=['Defacement','Benign','Malware','Phishing','Spam'],\n",
    "       yticklabels=['Defacement','Benign','Malware','Phishing','Spam'])   \n",
    "    \n",
    "    "
   ]
  },
  {
   "cell_type": "code",
   "execution_count": 56,
   "metadata": {},
   "outputs": [
    {
     "name": "stdout",
     "output_type": "stream",
     "text": [
      "[2 0 3 ... 0 3 1]\n"
     ]
    }
   ],
   "source": [
    "print(actual_Y)"
   ]
  },
  {
   "cell_type": "code",
   "execution_count": 58,
   "metadata": {},
   "outputs": [
    {
     "name": "stdout",
     "output_type": "stream",
     "text": [
      "LabelEncoder()\n"
     ]
    }
   ],
   "source": []
  },
  {
   "cell_type": "code",
   "execution_count": 43,
   "metadata": {
    "colab": {
     "base_uri": "https://localhost:8080/",
     "height": 549
    },
    "colab_type": "code",
    "id": "KQTabk5aJFHR",
    "outputId": "aa2e05df-0804-4611-ea88-e1f3bd7aa9f6"
   },
   "outputs": [
    {
     "name": "stdout",
     "output_type": "stream",
     "text": [
      "Categorical Cross-Entropy Loss Function\n",
      "Train on 29357 samples\n",
      "Epoch 1/100\n",
      "29357/29357 [==============================] - 3s 97us/sample - loss: 0.9543 - acc: 0.6488\n",
      "Epoch 2/100\n",
      "29357/29357 [==============================] - 2s 81us/sample - loss: 0.6589 - acc: 0.7573\n",
      "Epoch 3/100\n",
      "29357/29357 [==============================] - 3s 92us/sample - loss: 0.5685 - acc: 0.7930\n",
      "Epoch 4/100\n",
      "29357/29357 [==============================] - 3s 89us/sample - loss: 0.5135 - acc: 0.8147\n",
      "Epoch 5/100\n",
      "29357/29357 [==============================] - 2s 79us/sample - loss: 0.4846 - acc: 0.8252\n",
      "Epoch 6/100\n",
      "29357/29357 [==============================] - 2s 81us/sample - loss: 0.4524 - acc: 0.8382\n",
      "Epoch 7/100\n",
      "29357/29357 [==============================] - 3s 88us/sample - loss: 0.4337 - acc: 0.8460\n",
      "Epoch 8/100\n",
      "29357/29357 [==============================] - 3s 88us/sample - loss: 0.4294 - acc: 0.8469\n",
      "Epoch 9/100\n",
      "29357/29357 [==============================] - 2s 84us/sample - loss: 0.4084 - acc: 0.8547\n",
      "Epoch 10/100\n",
      "29357/29357 [==============================] - 3s 89us/sample - loss: 0.4015 - acc: 0.8574\n",
      "Epoch 11/100\n",
      "29357/29357 [==============================] - 2s 80us/sample - loss: 0.3938 - acc: 0.8616\n",
      "Epoch 12/100\n",
      "29357/29357 [==============================] - 2s 81us/sample - loss: 0.3796 - acc: 0.8668\n",
      "Epoch 13/100\n",
      "29357/29357 [==============================] - 2s 83us/sample - loss: 0.3737 - acc: 0.8686\n",
      "Epoch 14/100\n",
      "29357/29357 [==============================] - 2s 84us/sample - loss: 0.3685 - acc: 0.8714\n",
      "Epoch 15/100\n",
      "29357/29357 [==============================] - 3s 95us/sample - loss: 0.3593 - acc: 0.8723\n",
      "Epoch 16/100\n",
      "29357/29357 [==============================] - 3s 89us/sample - loss: 0.3627 - acc: 0.87450s - loss: 0.3605 - acc:\n",
      "Epoch 17/100\n",
      "29357/29357 [==============================] - 3s 87us/sample - loss: 0.3565 - acc: 0.8766\n",
      "Epoch 18/100\n",
      "29357/29357 [==============================] - 3s 87us/sample - loss: 0.3461 - acc: 0.8787\n",
      "Epoch 19/100\n",
      "29357/29357 [==============================] - 3s 97us/sample - loss: 0.3393 - acc: 0.8822\n",
      "Epoch 20/100\n",
      "29357/29357 [==============================] - 3s 94us/sample - loss: 0.3417 - acc: 0.8810\n",
      "Epoch 21/100\n",
      "29357/29357 [==============================] - 3s 97us/sample - loss: 0.3364 - acc: 0.8836\n",
      "Epoch 22/100\n",
      "29357/29357 [==============================] - 3s 90us/sample - loss: 0.3327 - acc: 0.88371s - loss: \n",
      "Epoch 23/100\n",
      "29357/29357 [==============================] - 2s 83us/sample - loss: 0.3349 - acc: 0.8843\n",
      "Epoch 24/100\n",
      "29357/29357 [==============================] - 2s 82us/sample - loss: 0.3279 - acc: 0.8840\n",
      "Epoch 25/100\n",
      "29357/29357 [==============================] - 3s 89us/sample - loss: 0.3183 - acc: 0.8907\n",
      "Epoch 26/100\n",
      "29357/29357 [==============================] - 3s 89us/sample - loss: 0.3225 - acc: 0.88760s - loss: 0.\n",
      "Epoch 27/100\n",
      "29357/29357 [==============================] - 2s 84us/sample - loss: 0.3166 - acc: 0.88970s - loss: 0.\n",
      "Epoch 28/100\n",
      "29357/29357 [==============================] - 2s 84us/sample - loss: 0.3146 - acc: 0.8905\n",
      "Epoch 29/100\n",
      "29357/29357 [==============================] - 3s 90us/sample - loss: 0.3191 - acc: 0.8912\n",
      "Epoch 30/100\n",
      "29357/29357 [==============================] - 3s 95us/sample - loss: 0.3099 - acc: 0.8930\n",
      "Epoch 31/100\n",
      "29357/29357 [==============================] - 2s 82us/sample - loss: 0.3090 - acc: 0.8954\n",
      "Epoch 32/100\n",
      "29357/29357 [==============================] - 2s 84us/sample - loss: 0.3031 - acc: 0.8956\n",
      "Epoch 33/100\n",
      "29357/29357 [==============================] - 3s 90us/sample - loss: 0.3048 - acc: 0.8933\n",
      "Epoch 34/100\n",
      "29357/29357 [==============================] - 3s 88us/sample - loss: 0.3013 - acc: 0.8961\n",
      "Epoch 35/100\n",
      "29357/29357 [==============================] - 2s 83us/sample - loss: 0.2977 - acc: 0.8973\n",
      "Epoch 36/100\n",
      "29357/29357 [==============================] - 3s 89us/sample - loss: 0.3043 - acc: 0.8947\n",
      "Epoch 37/100\n",
      "29357/29357 [==============================] - 3s 88us/sample - loss: 0.2988 - acc: 0.8971\n",
      "Epoch 38/100\n",
      "29357/29357 [==============================] - 2s 83us/sample - loss: 0.2945 - acc: 0.8991\n",
      "Epoch 39/100\n",
      "29357/29357 [==============================] - 2s 82us/sample - loss: 0.2952 - acc: 0.8977\n",
      "Epoch 40/100\n",
      "29357/29357 [==============================] - 2s 83us/sample - loss: 0.2926 - acc: 0.9020\n",
      "Epoch 41/100\n",
      "29357/29357 [==============================] - 3s 86us/sample - loss: 0.2973 - acc: 0.8978\n",
      "Epoch 42/100\n",
      "29357/29357 [==============================] - 2s 84us/sample - loss: 0.2911 - acc: 0.8978\n",
      "Epoch 43/100\n",
      "29357/29357 [==============================] - 2s 82us/sample - loss: 0.2857 - acc: 0.9030\n",
      "Epoch 44/100\n",
      "29357/29357 [==============================] - 2s 84us/sample - loss: 0.2875 - acc: 0.9031\n",
      "Epoch 45/100\n",
      "29357/29357 [==============================] - 3s 87us/sample - loss: 0.2869 - acc: 0.9023\n",
      "Epoch 46/100\n",
      "29357/29357 [==============================] - 2s 82us/sample - loss: 0.2866 - acc: 0.9012\n",
      "Epoch 47/100\n",
      "29357/29357 [==============================] - 3s 86us/sample - loss: 0.2839 - acc: 0.9027\n",
      "Epoch 48/100\n",
      "29357/29357 [==============================] - 4s 123us/sample - loss: 0.2810 - acc: 0.9042\n",
      "Epoch 49/100\n",
      "29357/29357 [==============================] - 3s 93us/sample - loss: 0.2792 - acc: 0.9032\n",
      "Epoch 50/100\n",
      "29357/29357 [==============================] - 3s 96us/sample - loss: 0.2755 - acc: 0.9055\n",
      "Epoch 51/100\n",
      "29357/29357 [==============================] - 4s 126us/sample - loss: 0.2798 - acc: 0.9033\n",
      "Epoch 52/100\n",
      "29357/29357 [==============================] - 3s 86us/sample - loss: 0.2832 - acc: 0.9035\n",
      "Epoch 53/100\n",
      "29357/29357 [==============================] - 3s 87us/sample - loss: 0.2802 - acc: 0.9036\n",
      "Epoch 54/100\n",
      "29357/29357 [==============================] - 2s 76us/sample - loss: 0.2818 - acc: 0.90390s - loss: 0.2825 - acc\n",
      "Epoch 55/100\n",
      "29357/29357 [==============================] - 2s 78us/sample - loss: 0.2759 - acc: 0.9063\n",
      "Epoch 56/100\n",
      "29357/29357 [==============================] - 3s 89us/sample - loss: 0.2718 - acc: 0.9060\n",
      "Epoch 57/100\n",
      "29357/29357 [==============================] - 3s 107us/sample - loss: 0.2781 - acc: 0.9060\n",
      "Epoch 58/100\n",
      "29357/29357 [==============================] - 3s 117us/sample - loss: 0.2730 - acc: 0.9078TA: 1s - l\n",
      "Epoch 59/100\n",
      "29357/29357 [==============================] - 3s 100us/sample - loss: 0.2726 - acc: 0.9083\n",
      "Epoch 60/100\n",
      "29357/29357 [==============================] - 2s 83us/sample - loss: 0.2720 - acc: 0.9092\n",
      "Epoch 61/100\n",
      "29357/29357 [==============================] - 3s 108us/sample - loss: 0.2765 - acc: 0.9039\n",
      "Epoch 62/100\n",
      "29357/29357 [==============================] - 3s 116us/sample - loss: 0.2736 - acc: 0.9058\n",
      "Epoch 63/100\n",
      "29357/29357 [==============================] - 2s 83us/sample - loss: 0.2666 - acc: 0.9100\n",
      "Epoch 64/100\n",
      "29357/29357 [==============================] - 3s 87us/sample - loss: 0.2694 - acc: 0.9092\n",
      "Epoch 65/100\n",
      "29357/29357 [==============================] - 2s 80us/sample - loss: 0.2654 - acc: 0.9101\n",
      "Epoch 66/100\n",
      "29357/29357 [==============================] - 2s 79us/sample - loss: 0.2638 - acc: 0.9097\n",
      "Epoch 67/100\n",
      "29357/29357 [==============================] - 2s 78us/sample - loss: 0.2587 - acc: 0.9119\n",
      "Epoch 68/100\n",
      "29357/29357 [==============================] - 3s 91us/sample - loss: 0.2678 - acc: 0.9099\n",
      "Epoch 69/100\n",
      "29357/29357 [==============================] - 3s 94us/sample - loss: 0.2661 - acc: 0.9087\n",
      "Epoch 70/100\n",
      "29357/29357 [==============================] - 3s 87us/sample - loss: 0.2692 - acc: 0.90791\n",
      "Epoch 71/100\n",
      "29357/29357 [==============================] - 3s 95us/sample - loss: 0.2675 - acc: 0.9110\n",
      "Epoch 72/100\n",
      "29357/29357 [==============================] - 3s 94us/sample - loss: 0.2607 - acc: 0.90941s - loss: 0.\n",
      "Epoch 73/100\n",
      "29357/29357 [==============================] - 2s 84us/sample - loss: 0.2624 - acc: 0.91230s - loss: 0.2604\n",
      "Epoch 74/100\n",
      "29357/29357 [==============================] - 3s 93us/sample - loss: 0.2556 - acc: 0.9116\n",
      "Epoch 75/100\n",
      "29357/29357 [==============================] - 2s 84us/sample - loss: 0.2610 - acc: 0.9119\n",
      "Epoch 76/100\n",
      "29357/29357 [==============================] - 3s 88us/sample - loss: 0.2596 - acc: 0.9107\n",
      "Epoch 77/100\n",
      "29357/29357 [==============================] - 3s 85us/sample - loss: 0.2609 - acc: 0.9118\n"
     ]
    },
    {
     "name": "stdout",
     "output_type": "stream",
     "text": [
      "Epoch 78/100\n",
      "29357/29357 [==============================] - 2s 79us/sample - loss: 0.2586 - acc: 0.9111\n",
      "Epoch 79/100\n",
      "29357/29357 [==============================] - 2s 74us/sample - loss: 0.2608 - acc: 0.9111\n",
      "Epoch 80/100\n",
      "29357/29357 [==============================] - 2s 77us/sample - loss: 0.2592 - acc: 0.9132\n",
      "Epoch 81/100\n",
      "29357/29357 [==============================] - 2s 77us/sample - loss: 0.2579 - acc: 0.9123\n",
      "Epoch 82/100\n",
      "29357/29357 [==============================] - 2s 77us/sample - loss: 0.2605 - acc: 0.9102\n",
      "Epoch 83/100\n",
      "29357/29357 [==============================] - 2s 79us/sample - loss: 0.2567 - acc: 0.9136\n",
      "Epoch 84/100\n",
      "29357/29357 [==============================] - 2s 80us/sample - loss: 0.2547 - acc: 0.9143\n",
      "Epoch 85/100\n",
      "29357/29357 [==============================] - 2s 77us/sample - loss: 0.2569 - acc: 0.9108\n",
      "Epoch 86/100\n",
      "29357/29357 [==============================] - 2s 75us/sample - loss: 0.2531 - acc: 0.9138\n",
      "Epoch 87/100\n",
      "29357/29357 [==============================] - 2s 74us/sample - loss: 0.2551 - acc: 0.9138\n",
      "Epoch 88/100\n",
      "29357/29357 [==============================] - 2s 76us/sample - loss: 0.2475 - acc: 0.9152\n",
      "Epoch 89/100\n",
      "29357/29357 [==============================] - 2s 80us/sample - loss: 0.2554 - acc: 0.9123\n",
      "Epoch 90/100\n",
      "29357/29357 [==============================] - 2s 83us/sample - loss: 0.2484 - acc: 0.9151\n",
      "Epoch 91/100\n",
      "29357/29357 [==============================] - 2s 78us/sample - loss: 0.2507 - acc: 0.9153\n",
      "Epoch 92/100\n",
      "29357/29357 [==============================] - 2s 76us/sample - loss: 0.2476 - acc: 0.9169\n",
      "Epoch 93/100\n",
      "29357/29357 [==============================] - 2s 80us/sample - loss: 0.2585 - acc: 0.9122\n",
      "Epoch 94/100\n",
      "29357/29357 [==============================] - 2s 80us/sample - loss: 0.2498 - acc: 0.9150\n",
      "Epoch 95/100\n",
      "29357/29357 [==============================] - 2s 84us/sample - loss: 0.2472 - acc: 0.9155\n",
      "Epoch 96/100\n",
      "29357/29357 [==============================] - 2s 84us/sample - loss: 0.2485 - acc: 0.9177\n",
      "Epoch 97/100\n",
      "29357/29357 [==============================] - 2s 83us/sample - loss: 0.2507 - acc: 0.91320s - loss: 0.2492 - ac\n",
      "Epoch 98/100\n",
      "29357/29357 [==============================] - 2s 78us/sample - loss: 0.2466 - acc: 0.9175\n",
      "Epoch 99/100\n",
      "29357/29357 [==============================] - 2s 79us/sample - loss: 0.2452 - acc: 0.9171\n",
      "Epoch 100/100\n",
      "29357/29357 [==============================] - 2s 78us/sample - loss: 0.2500 - acc: 0.9167\n",
      "7340/7340 [==============================] - 0s 45us/sample\n"
     ]
    },
    {
     "ename": "NameError",
     "evalue": "name 'acutal_Y' is not defined",
     "output_type": "error",
     "traceback": [
      "\u001b[0;31m---------------------------------------------------------------------------\u001b[0m",
      "\u001b[0;31mNameError\u001b[0m                                 Traceback (most recent call last)",
      "\u001b[0;32m<ipython-input-43-a2e0bb704bfb>\u001b[0m in \u001b[0;36m<module>\u001b[0;34m()\u001b[0m\n\u001b[0;32m----> 1\u001b[0;31m \u001b[0mholdOutExperiment\u001b[0m\u001b[0;34m(\u001b[0m\u001b[0mX_train\u001b[0m\u001b[0;34m,\u001b[0m \u001b[0mY_train\u001b[0m\u001b[0;34m,\u001b[0m \u001b[0mX_validation\u001b[0m\u001b[0;34m,\u001b[0m \u001b[0mY_validation\u001b[0m\u001b[0;34m)\u001b[0m\u001b[0;34m\u001b[0m\u001b[0;34m\u001b[0m\u001b[0m\n\u001b[0m",
      "\u001b[0;32m<ipython-input-42-040ae084a838>\u001b[0m in \u001b[0;36mholdOutExperiment\u001b[0;34m(X_train, Y_train, X_test, Y_test)\u001b[0m\n\u001b[1;32m     15\u001b[0m     \u001b[0mpredicted_Y\u001b[0m \u001b[0;34m=\u001b[0m \u001b[0mmodel\u001b[0m\u001b[0;34m.\u001b[0m\u001b[0mpredict_classes\u001b[0m\u001b[0;34m(\u001b[0m\u001b[0mX_test\u001b[0m\u001b[0;34m,\u001b[0m \u001b[0mbatch_size\u001b[0m\u001b[0;34m=\u001b[0m\u001b[0;36m100\u001b[0m\u001b[0;34m,\u001b[0m \u001b[0mverbose\u001b[0m\u001b[0;34m=\u001b[0m\u001b[0;36m1\u001b[0m\u001b[0;34m)\u001b[0m\u001b[0;34m\u001b[0m\u001b[0;34m\u001b[0m\u001b[0m\n\u001b[1;32m     16\u001b[0m     \u001b[0mactul_Y\u001b[0m \u001b[0;34m=\u001b[0m \u001b[0mLabelEncoder\u001b[0m\u001b[0;34m(\u001b[0m\u001b[0;34m)\u001b[0m\u001b[0;34m.\u001b[0m\u001b[0mfit_transform\u001b[0m\u001b[0;34m(\u001b[0m\u001b[0mY_test\u001b[0m\u001b[0;34m)\u001b[0m\u001b[0;34m\u001b[0m\u001b[0;34m\u001b[0m\u001b[0m\n\u001b[0;32m---> 17\u001b[0;31m     \u001b[0mcm\u001b[0m \u001b[0;34m=\u001b[0m \u001b[0mconfusion_matrix\u001b[0m\u001b[0;34m(\u001b[0m\u001b[0macutal_Y\u001b[0m\u001b[0;34m,\u001b[0m \u001b[0mpredicted_Y\u001b[0m\u001b[0;34m)\u001b[0m\u001b[0;34m\u001b[0m\u001b[0;34m\u001b[0m\u001b[0m\n\u001b[0m\u001b[1;32m     18\u001b[0m     \u001b[0mprint\u001b[0m\u001b[0;34m(\u001b[0m\u001b[0mcm\u001b[0m\u001b[0;34m)\u001b[0m\u001b[0;34m\u001b[0m\u001b[0;34m\u001b[0m\u001b[0m\n\u001b[1;32m     19\u001b[0m     sn.heatmap(cm, annot=True, fmt='g', cmap='Blues', xticklabels=['Defacement','Benign','Malware','Phishing','Spam'],\n",
      "\u001b[0;31mNameError\u001b[0m: name 'acutal_Y' is not defined"
     ]
    }
   ],
   "source": [
    "holdOutExperiment(X_train, Y_train, X_validation, Y_validation)"
   ]
  },
  {
   "cell_type": "code",
   "execution_count": 48,
   "metadata": {},
   "outputs": [
    {
     "name": "stdout",
     "output_type": "stream",
     "text": [
      "7340/7340 [==============================] - 0s 21us/sample\n",
      "[[ 252    0    0 1342    0]\n",
      " [   5    0    0 1536    0]\n",
      " [   5    0    0 1362    0]\n",
      " [  32    0    0 1491    0]\n",
      " [ 107    0    0 1208    0]]\n"
     ]
    },
    {
     "data": {
      "text/plain": [
       "<matplotlib.axes._subplots.AxesSubplot at 0x1c3107ae10>"
      ]
     },
     "execution_count": 48,
     "metadata": {},
     "output_type": "execute_result"
    },
    {
     "data": {
      "image/png": "[encoded data removed]",
      "text/plain": [
       "<Figure size 432x288 with 2 Axes>"
      ]
     },
     "metadata": {
      "needs_background": "light"
     },
     "output_type": "display_data"
    }
   ],
   "source": [
    "predicted_Y = model.predict_classes(X_validation, batch_size=100, verbose=1)\n",
    "actual_Y = LabelEncoder().fit_transform(Y_validation)\n",
    "cm = confusion_matrix(actual_Y, predicted_Y)\n",
    "print(cm)\n",
    "sn.heatmap(cm, annot=True, fmt='g', cmap='Blues', xticklabels=['Defacement','Benign','Malware','Phishing','Spam'],\n",
    "       yticklabels=['Defacement','Benign','Malware','Phishing','Spam'])  "
   ]
  },
  {
   "cell_type": "markdown",
   "metadata": {
    "colab_type": "text",
    "id": "XtWNPIlMplyY"
   },
   "source": [
    "### Write results to file"
   ]
  },
  {
   "cell_type": "code",
   "execution_count": 0,
   "metadata": {
    "colab": {},
    "colab_type": "code",
    "id": "_YP-tODMplyZ"
   },
   "outputs": [],
   "source": [
    "\n",
    "def saveLog():\n",
    "    resultFile = os.path.join(resultPath, dataFile)\n",
    "    with open('{}.result'.format(resultFile), 'a') as fout:\n",
    "        fout.write('{} results...'.format(model_name+model_extension))\n",
    "        fout.write('\\taccuracy: {:.2f} loss: {:.2f} time_elapsed: {} [hr:min:sec] \\n'.format(acc, loss,tTime ))"
   ]
  },
  {
   "cell_type": "code",
   "execution_count": 0,
   "metadata": {
    "colab": {},
    "colab_type": "code",
    "id": "NzeDeFBV--6B"
   },
   "outputs": [],
   "source": [
    "saveLog()"
   ]
  },
  {
   "cell_type": "markdown",
   "metadata": {
    "colab_type": "text",
    "id": "HoJYzC0NjTZJ"
   },
   "source": []
  },
  {
   "cell_type": "markdown",
   "metadata": {
    "colab_type": "text",
    "id": "aOJNLEDfplyc"
   },
   "source": [
    "## Binary Classification of Labels\n",
    "> Change all malicious labels to value 1 and benign label to 0"
   ]
  },
  {
   "cell_type": "markdown",
   "metadata": {
    "colab_type": "text",
    "id": "QH5SPeyD1zUX"
   },
   "source": [
    "### Binarize Data"
   ]
  },
  {
   "cell_type": "code",
   "execution_count": 0,
   "metadata": {
    "colab": {},
    "colab_type": "code",
    "id": "QzpGC1TYplyd"
   },
   "outputs": [],
   "source": [
    "lblTypes = list(lblTypes)\n",
    "lblTypes = dict(zip(lblTypes, [1, 1, 1, 1, 1]))\n",
    "lblTypes['benign'] = 0"
   ]
  },
  {
   "cell_type": "code",
   "execution_count": 0,
   "metadata": {
    "colab": {},
    "colab_type": "code",
    "id": "IQ5kYPnTplyg"
   },
   "outputs": [],
   "source": [
    "binary_df = df1.copy()\n",
    "binary_df[label] = binary_df[label].map(lblTypes)"
   ]
  },
  {
   "cell_type": "markdown",
   "metadata": {
    "colab_type": "text",
    "id": "taziMECuplyj"
   },
   "source": [
    "### Train the Binary Model"
   ]
  },
  {
   "cell_type": "code",
   "execution_count": 122,
   "metadata": {
    "colab": {
     "base_uri": "https://localhost:8080/",
     "height": 445
    },
    "colab_type": "code",
    "id": "llXRdiQ1plyk",
    "outputId": "ff5b00f4-c6bc-4256-f9ba-73b6d8f60f79"
   },
   "outputs": [
    {
     "name": "stdout",
     "output_type": "stream",
     "text": [
      "Running fold #1\n"
     ]
    },
    {
     "name": "stderr",
     "output_type": "stream",
     "text": [
      "W0731 01:50:57.923707 140023254493056 deprecation.py:323] From /usr/local/lib/python3.6/dist-packages/tensorflow/python/ops/math_grad.py:1250: add_dispatch_support.<locals>.wrapper (from tensorflow.python.ops.array_ops) is deprecated and will be removed in a future version.\n",
      "Instructions for updating:\n",
      "Use tf.where in 2.0, which has the same broadcast rule as np.where\n"
     ]
    },
    {
     "name": "stdout",
     "output_type": "stream",
     "text": [
      "Binary Cross-Entropy Loss Function\n",
      "Running fold #2\n",
      "Binary Cross-Entropy Loss Function\n",
      "Running fold #3\n",
      "Binary Cross-Entropy Loss Function\n",
      "Running fold #4\n",
      "Binary Cross-Entropy Loss Function\n",
      "Running fold #5\n",
      "Binary Cross-Entropy Loss Function\n",
      "Running fold #6\n",
      "Binary Cross-Entropy Loss Function\n",
      "Running fold #7\n",
      "Binary Cross-Entropy Loss Function\n",
      "Running fold #8\n",
      "Binary Cross-Entropy Loss Function\n",
      "Running fold #9\n",
      "Binary Cross-Entropy Loss Function\n",
      "Running fold #10\n",
      "Binary Cross-Entropy Loss Function\n",
      "Time to complete 0:25:22.330827 [hour:min:sec]\n"
     ]
    }
   ],
   "source": [
    "model, history, X , encoded_y, tTime = experiment(binary_df)"
   ]
  },
  {
   "cell_type": "markdown",
   "metadata": {
    "colab_type": "text",
    "id": "Ta-ruG0K1eVN"
   },
   "source": [
    "### Model Results"
   ]
  },
  {
   "cell_type": "code",
   "execution_count": 123,
   "metadata": {
    "colab": {
     "base_uri": "https://localhost:8080/",
     "height": 88
    },
    "colab_type": "code",
    "id": "6FV5LefXplyt",
    "outputId": "a71d3e5d-36ec-4e63-ebdd-ac5b057e187f"
   },
   "outputs": [
    {
     "name": "stdout",
     "output_type": "stream",
     "text": [
      "36697/36697 [==============================] - 4s 115us/sample - loss: 0.0441 - acc: 0.9862\n",
      "['loss', 'acc']\n",
      "Baseline: accuracy: 98.62%: loss: 0.04\n"
     ]
    }
   ],
   "source": [
    "scores = model.evaluate(X,encoded_y, verbose=1)\n",
    "print(model.metrics_names)\n",
    "acc, loss = scores[1]*100, scores[0]\n",
    "print('Baseline: accuracy: {:.2f}%: loss: {:.2f}'.format(acc, loss))"
   ]
  },
  {
   "cell_type": "markdown",
   "metadata": {
    "colab_type": "text",
    "id": "DviMoEPX1hxZ"
   },
   "source": [
    "#### Predictions"
   ]
  },
  {
   "cell_type": "code",
   "execution_count": 124,
   "metadata": {
    "colab": {
     "base_uri": "https://localhost:8080/",
     "height": 34
    },
    "colab_type": "code",
    "id": "0kU7Ncq7ply2",
    "outputId": "d1d227e1-20b2-415d-a983-1c29baedb02e"
   },
   "outputs": [
    {
     "name": "stdout",
     "output_type": "stream",
     "text": [
      "36697/36697 [==============================] - 4s 106us/sample\n"
     ]
    }
   ],
   "source": [
    "prediction_y = model.predict_classes(X, batch_size=batch_size, verbose=1)"
   ]
  },
  {
   "cell_type": "code",
   "execution_count": 125,
   "metadata": {
    "colab": {
     "base_uri": "https://localhost:8080/",
     "height": 286
    },
    "colab_type": "code",
    "id": "0T2dZA9Nply8",
    "outputId": "c01b1cd1-dd0c-44ce-af0a-59599b9807d5"
   },
   "outputs": [
    {
     "data": {
      "text/plain": [
       "<matplotlib.axes._subplots.AxesSubplot at 0x7f59308fbda0>"
      ]
     },
     "execution_count": 125,
     "metadata": {
      "tags": []
     },
     "output_type": "execute_result"
    },
    {
     "data": {
      "image/png": "[encoded data removed]",
      "text/plain": [
       "<Figure size 432x288 with 2 Axes>"
      ]
     },
     "metadata": {
      "tags": []
     },
     "output_type": "display_data"
    }
   ],
   "source": [
    "y=LabelEncoder().fit_transform(binary_df[dep_var].values)\n",
    "cm = confusion_matrix(y, prediction_y)\n",
    "sn.heatmap(cm, cmap='Blues', annot=True, fmt='g', xticklabels=['Benign', 'Malicious'],\n",
    "        yticklabels=['Benign', 'Malicious'])"
   ]
  },
  {
   "cell_type": "markdown",
   "metadata": {
    "colab_type": "text",
    "id": "4YdW3jb8plzB"
   },
   "source": [
    "#### Graph of Binary Cross-Entropy Model"
   ]
  },
  {
   "cell_type": "code",
   "execution_count": 126,
   "metadata": {
    "colab": {
     "base_uri": "https://localhost:8080/",
     "height": 295
    },
    "colab_type": "code",
    "id": "AzeLN1BSplzC",
    "outputId": "36e325d5-77dc-4834-e402-22aa4e7ae855"
   },
   "outputs": [
    {
     "data": {
      "image/png": "[encoded data removed]",
      "text/plain": [
       "<Figure size 432x288 with 1 Axes>"
      ]
     },
     "metadata": {
      "tags": []
     },
     "output_type": "display_data"
    }
   ],
   "source": [
    "plotAccuracy('Binary Model Accuracy')"
   ]
  },
  {
   "cell_type": "code",
   "execution_count": 127,
   "metadata": {
    "colab": {
     "base_uri": "https://localhost:8080/",
     "height": 295
    },
    "colab_type": "code",
    "id": "FObJJIn9--7X",
    "outputId": "54a30914-5d63-4b15-c8d4-d6669fc2db16"
   },
   "outputs": [
    {
     "data": {
      "image/png": "[encoded data removed]",
      "text/plain": [
       "<Figure size 432x288 with 1 Axes>"
      ]
     },
     "metadata": {
      "tags": []
     },
     "output_type": "display_data"
    }
   ],
   "source": [
    "plotLoss('Binary Model Loss')"
   ]
  },
  {
   "cell_type": "markdown",
   "metadata": {
    "colab_type": "text",
    "id": "A8Il5_kL1oQt"
   },
   "source": [
    "### Write Results to File"
   ]
  },
  {
   "cell_type": "code",
   "execution_count": 0,
   "metadata": {
    "colab": {},
    "colab_type": "code",
    "id": "Qz6wRy6GplzH"
   },
   "outputs": [],
   "source": [
    "saveLog()"
   ]
  },
  {
   "cell_type": "code",
   "execution_count": 0,
   "metadata": {
    "colab": {},
    "colab_type": "code",
    "id": "g-SU-b-6--7k"
   },
   "outputs": [],
   "source": []
  }
 ],
 "metadata": {
  "colab": {
   "collapsed_sections": [],
   "include_colab_link": true,
   "name": "Keras-Tensorflow-Experiments.ipynb",
   "provenance": [],
   "version": "0.3.2"
  },
  "kernelspec": {
   "display_name": "Python 3",
   "language": "python",
   "name": "python3"
  },
  "language_info": {
   "codemirror_mode": {
    "name": "ipython",
    "version": 3
   },
   "file_extension": ".py",
   "mimetype": "text/x-python",
   "name": "python",
   "nbconvert_exporter": "python",
   "pygments_lexer": "ipython3",
   "version": "3.7.2"
  }
 },
 "nbformat": 4,
 "nbformat_minor": 1
}
