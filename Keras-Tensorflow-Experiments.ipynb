{
 "cells": [
  {
   "cell_type": "markdown",
   "metadata": {
    "colab_type": "text",
    "id": "SFAQJfeWplvv"
   },
   "source": [
    "# Keras-Tensorflow Experiments on Grit Mindset Dataset"
   ]
  },
  {
   "cell_type": "markdown",
   "metadata": {
    "colab_type": "text",
    "id": "47GgPW0G0Pi7"
   },
   "source": [
    "## Initial Setup"
   ]
  },
  {
   "cell_type": "markdown",
   "metadata": {
    "colab_type": "text",
    "id": "GbTWr3JeuzLm"
   },
   "source": [
    "### Include needed files. "
   ]
  },
  {
   "cell_type": "code",
   "execution_count": 1,
   "metadata": {
    "colab": {
     "base_uri": "https://localhost:8080/",
     "height": 34
    },
    "colab_type": "code",
    "id": "sBMU4MElu9GB",
    "outputId": "dcc13efe-05f2-4ce5-cb2f-57108b6e3b4c"
   },
   "outputs": [],
   "source": [
    "import csv\n",
    "import sys\n",
    "import numpy\n",
    "import pandas as pd\n",
    "import operator\n",
    "from tensorflow.keras.models import Sequential\n",
    "from tensorflow.keras.layers import Dense, Activation\n",
    "from sklearn.model_selection import StratifiedKFold"
   ]
  },
  {
   "cell_type": "markdown",
   "metadata": {
    "colab_type": "text",
    "id": "07jwatic7-Jk"
   },
   "source": [
    "### Include Dataset\n",
    "\n",
    "\n",
    "\n",
    "\n"
   ]
  },
  {
   "cell_type": "code",
   "execution_count": 0,
   "metadata": {
    "colab": {},
    "colab_type": "code",
    "id": "ngdiiVOJ8Bt4"
   },
   "outputs": [],
   "source": [
    "%%bash\n",
    "URL=https://iscxdownloads.cs.unb.ca/iscxdownloads/ISCX-URL-2016/\n",
    "FILES=(ISCXURL2016.zip) \n",
    "for FILE in ${FILES[*]}; do\n",
    "    if [ ! -f \"$FILE\" ]; then\n",
    "        printf \"downloading %s\\n\" $FILE\n",
    "        curl -O $URL$FILE\n",
    "        # unzip files\n",
    "        echo 'unzipping ' $FILE\n",
    "        unzip -o $FILE #overwrite exiting files/folders if exists\n",
    "    fi\n",
    "done"
   ]
  },
  {
   "cell_type": "markdown",
   "metadata": {
    "colab_type": "text",
    "id": "MIqy2Xmc8HoD"
   },
   "source": [
    "### Check Dataset"
   ]
  },
  {
   "cell_type": "code",
   "execution_count": 62,
   "metadata": {
    "colab": {
     "base_uri": "https://localhost:8080/",
     "height": 221
    },
    "colab_type": "code",
    "id": "zl2T8MRq8PNT",
    "outputId": "3a0b4bbd-6af4-4386-9944-09835a7645f3"
   },
   "outputs": [
    {
     "name": "stdout",
     "output_type": "stream",
     "text": [
      "All_BestFirst.csv\t      Malware_Infogain.csv\n",
      "All_BestFirst_test.csv\t      Malware_Infogain_test.csv\n",
      "All.csv\t\t\t      Phishing_BestFirst.csv\n",
      "All.csv.pickle\t\t      Phishing.csv\n",
      "All_Infogain.csv\t      Phishing_Infogain.csv\n",
      "All_Infogain_test.csv\t      Phishing_Infogain_test.csv\n",
      "Defacement_BestFirst.csv      Spam_BestFirst.csv\n",
      "Defacement.csv\t\t      Spam_BestFirst_test.csv\n",
      "Defacement_Infogain.csv       Spam.csv\n",
      "Defacement_Infogain_test.csv  Spam_Infogain.csv\n",
      "Malware_BestFirst.csv\t      Spam_Infogain_test.csv\n",
      "Malware.csv\t\t      URL\n"
     ]
    }
   ],
   "source": [
    "! ls FinalDataset"
   ]
  },
  {
   "cell_type": "markdown",
   "metadata": {
    "colab_type": "text",
    "id": "IeCm3LP08XOy"
   },
   "source": [
    "### Set some data\n",
    "> Some data needs to be set, we need to ensure that constants are set properly. These are important but will not be used until later."
   ]
  },
  {
   "cell_type": "code",
   "execution_count": 0,
   "metadata": {
    "colab": {},
    "colab_type": "code",
    "id": "qJuZTgd0u_WG"
   },
   "outputs": [],
   "source": [
    "resultPath = 'results_keras_tensorflow'\n",
    "if not os.path.exists(resultPath):\n",
    "   print('result path {} created.'.format(resultPath))\n",
    "   os.mkdir(resultPath)"
   ]
  },
  {
   "cell_type": "code",
   "execution_count": 0,
   "metadata": {
    "colab": {},
    "colab_type": "code",
    "id": "EHnzBhcavSR-"
   },
   "outputs": [],
   "source": [
    "model_name = \"init\""
   ]
  },
  {
   "cell_type": "markdown",
   "metadata": {
    "colab_type": "text",
    "id": "6Vo0Cwne9wRJ"
   },
   "source": [
    "## Functions for Testing\n",
    "> Now that our data has been collected it is time to create functions that will be used in later tests."
   ]
  },
  {
   "cell_type": "code",
   "execution_count": 0,
   "metadata": {
    "colab": {},
    "colab_type": "code",
    "id": "DFtoJCs_7T8p"
   },
   "outputs": [],
   "source": [
    "def loadData(csvFile):\n",
    "    pickleDump = '{}.pickle'.format(csvFile)\n",
    "    if os.path.exists(pickleDump):\n",
    "        df = pd.read_pickle(pickleDump)\n",
    "    else:\n",
    "        df = pd.read_csv(csvFile, low_memory=False, na_values='NaN')\n",
    "        # clean data\n",
    "        # strip the whitspaces from column names\n",
    "        df = df.rename(str.strip, axis='columns')\n",
    "        #df.drop(columns=[], inplace=True)\n",
    "        # drop missing values/NaN etc.\n",
    "        #df.dropna(inplace=True)\n",
    "        # drop Infinity rows and NaN string from each column\n",
    "        for col in df.columns:\n",
    "            indexNames = df[df[col]=='Infinity'].index\n",
    "            if not indexNames.empty:\n",
    "                print('deleting {} rows with Infinity in column {}'.format(len(indexNames), col))\n",
    "                df.drop(indexNames, inplace=True)\n",
    "        \n",
    "        df.to_pickle(pickleDump)\n",
    "    \n",
    "    return df\n"
   ]
  },
  {
   "cell_type": "code",
   "execution_count": 0,
   "metadata": {
    "colab": {},
    "colab_type": "code",
    "id": "GB51N0iLCK9J"
   },
   "outputs": [],
   "source": [
    "def baseline_model(inputDim=-1,outputDim=-1):\n",
    "    global model_extension, experimentTitle\n",
    "    model = tf.keras.Sequential([\n",
    "        Dense(128, activation='relu', input_shape=(inputDim,)),\n",
    "        BatchNormalization(),\n",
    "        Dropout(.5),\n",
    "        Dense(64, activation='relu'),\n",
    "        BatchNormalization(),\n",
    "        Dropout(.5),\n",
    "        Dense(outputDim, activation='softmax')\n",
    "    ]) #This is the output layer\n",
    "\n",
    "    if outputDim > 2:\n",
    "        print('Categorical Cross-Entropy Loss Function')\n",
    "        model_extension = \"_categorical\"\n",
    "        experimentTitle = \"Categorical\"\n",
    "        model.compile(optimizer='adam',\n",
    "                 loss='categorical_crossentropy',\n",
    "                 metrics=['accuracy'])\n",
    "    else:\n",
    "        print('Binary Cross-Entropy Loss Function')\n",
    "        model_extension = \"_binary\"\n",
    "        experimentTitle = \"Binary\"\n",
    "        model.compile(optimizer='adam',\n",
    "                loss='binary_crossentropy',\n",
    "                metrics=['accuracy'])\n",
    "\n",
    "    return model"
   ]
  },
  {
   "cell_type": "code",
   "execution_count": 0,
   "metadata": {
    "colab": {},
    "colab_type": "code",
    "id": "zbiT-Sf9plwd"
   },
   "outputs": [],
   "source": [
    "def encode_labels(dataframe):\n",
    "    dataframe=dataframe.copy()\n",
    "    data_y=dataframe.pop(dep_var)\n",
    "    encoder = LabelEncoder()\n",
    "    encoder.fit(data_y)\n",
    "    data_y = encoder.transform(data_y)\n",
    "    dummy_y = to_categorical(data_y)\n",
    "    return dummy_y"
   ]
  },
  {
   "cell_type": "code",
   "execution_count": 0,
   "metadata": {
    "colab": {},
    "colab_type": "code",
    "id": "3aQvhWPU1H8v"
   },
   "outputs": [],
   "source": [
    "def plotAccuracy(title):\n",
    "    plt.plot(history.history['acc'])\n",
    "    plt.plot(history.history['val_acc'])\n",
    "    plt.title(title)\n",
    "    plt.ylabel('Accuracy')\n",
    "    plt.xlabel('Epoch')\n",
    "    plt.legend(['Train', 'Test'], loc='upper left')\n",
    "    plt.show()"
   ]
  },
  {
   "cell_type": "code",
   "execution_count": 0,
   "metadata": {
    "colab": {},
    "colab_type": "code",
    "id": "FCdjh6ZY--2M"
   },
   "outputs": [],
   "source": [
    "def plotLoss(title):\n",
    "    plt.plot(history.history['loss'])\n",
    "    plt.plot(history.history['val_loss'])\n",
    "    plt.title(title)\n",
    "    plt.ylabel('Loss')\n",
    "    plt.xlabel('Epoch')\n",
    "    plt.legend(['Train', 'Test'], loc='upper left')\n",
    "    plt.show()"
   ]
  },
  {
   "cell_type": "code",
   "execution_count": 1,
   "metadata": {
    "colab": {},
    "colab_type": "code",
    "id": "nMkpqsxYmSSo"
   },
   "outputs": [],
   "source": [
    "def plot_Experiment(history,y):\n",
    "  hist = pd.DataFrame(history.history)\n",
    "  hist['epoch'] = history.epoch\n",
    "\n",
    "  plt.figure()\n",
    "  plt.xlabel('Epoch')\n",
    "  plt.ylabel('Error')\n",
    "  plt.plot(hist['epoch'], hist['loss'],\n",
    "           label='Train Error')\n",
    "  plt.plot(hist['epoch'], hist['val_loss'],\n",
    "           label = 'Val Error')\n",
    "  plt.ylim([0,y])\n",
    "  plt.legend()\n",
    "\n",
    "  plt.figure()\n",
    "  plt.xlabel('Epoch')\n",
    "  plt.ylabel('Error')\n",
    "  plt.plot(hist['epoch'], hist['loss'],\n",
    "           label='Train Error')\n",
    "  plt.plot(hist['epoch'], hist['val_loss'],\n",
    "           label = 'Val Error')\n",
    "  plt.ylim([0,y])\n",
    "  plt.legend()\n",
    "  plt.show()"
   ]
  },
  {
   "cell_type": "code",
   "execution_count": 0,
   "metadata": {
    "colab": {},
    "colab_type": "code",
    "id": "U1bG2p566m8V"
   },
   "outputs": [],
   "source": [
    "# Function to determine train and validation indexes, \n",
    "# and fit the data to the model we constructed\n",
    "def experiment(dataframe, early=False):\n",
    "    \n",
    "    #10-fold cross validation, choosing random indices for training and validation\n",
    "    kfold = StratifiedKFold(n_splits=10, shuffle=True, random_state=seed)\n",
    "    \n",
    "    # Encode the label column for model fitting\n",
    "    encoded_y = dataframe.copy()\n",
    "    encoded_y = encode_labels(encoded_y)\n",
    "    \n",
    "    # X is our data/features to train the model with\n",
    "    X=StandardScaler().fit_transform(dataframe.drop(dep_var, axis=1))\n",
    "    \n",
    "    # Y is our labels to classify the data\n",
    "    y=LabelEncoder().fit_transform(dataframe[dep_var].values)\n",
    "    start_time = time.time()\n",
    "\n",
    "    for index, (train_indices, val_indices) in enumerate(kfold.split(X, y)):\n",
    "        \n",
    "        xtrain, xval = X[train_indices], X[val_indices]\n",
    "        ytrain, yval = encoded_y[train_indices], encoded_y[val_indices]\n",
    "\n",
    "        inputDim=xtrain.shape[1]\n",
    "        outputDim=ytrain.shape[1]\n",
    "        print(\"Running fold #\" + str(index+1))\n",
    "\n",
    "        model = baseline_model(inputDim,outputDim)\n",
    "        \n",
    "        time_gen = int(time.time())\n",
    "        \n",
    "        global model_name\n",
    "        model_name = f\"{dataFile}_{time_gen}\"\n",
    "\n",
    "        tensorboard = TensorBoard(log_dir='keras_tensorflow_logs/{}/{}_{}'.format(experimentTitle, model_name, model_extension),update_freq='epoch')\n",
    "        if early_stop:\n",
    "            callbacks = [tensorboard, early_stop]\n",
    "        else:\n",
    "            callbacks = [tensorboard]\n",
    "        history = model.fit(xtrain, ytrain, epochs=epochs, validation_data=(xval,yval), callbacks=callbacks, batch_size=batch_size, verbose=0)\n",
    "        \n",
    "    global end_time \n",
    "    end_time = time.time() - start_time\n",
    "    TimeSetup = str(datetime.timedelta(seconds=end_time))\n",
    "    Minutes = int(end_time/60)\n",
    "    print(\"Time to complete {} [hour:min:sec]\".format(TimeSetup)) \n",
    "        \n",
    "    return model, history, X, encoded_y, TimeSetup\n"
   ]
  },
  {
   "cell_type": "markdown",
   "metadata": {
    "colab_type": "text",
    "id": "GkZ-uZuz9_pi"
   },
   "source": [
    "## Data\n",
    "### Load and Clean\n",
    "> First we will load our data, scan the columns for Infinity and NaN values, and remove those columns from testing. "
   ]
  },
  {
   "cell_type": "code",
   "execution_count": 0,
   "metadata": {
    "colab": {},
    "colab_type": "code",
    "id": "h_7Y2Ytp7xa-"
   },
   "outputs": [],
   "source": [
    "df1 = loadData('FinalDataset/All.csv')\n",
    "df1=df1.dropna(axis=1)"
   ]
  },
  {
   "cell_type": "markdown",
   "metadata": {
    "colab_type": "text",
    "id": "mekPFv6lplwm"
   },
   "source": [
    "### Display Data Columns"
   ]
  },
  {
   "cell_type": "code",
   "execution_count": 73,
   "metadata": {
    "colab": {
     "base_uri": "https://localhost:8080/",
     "height": 425
    },
    "colab_type": "code",
    "id": "4ZwM-GC1-LPj",
    "outputId": "adb92dec-063b-4289-d1af-fd282f1cb68a"
   },
   "outputs": [
    {
     "data": {
      "text/plain": [
       "Index(['Querylength', 'domain_token_count', 'path_token_count',\n",
       "       'avgdomaintokenlen', 'longdomaintokenlen', 'tld', 'charcompvowels',\n",
       "       'charcompace', 'ldl_url', 'ldl_domain', 'ldl_path', 'ldl_filename',\n",
       "       'ldl_getArg', 'dld_url', 'dld_domain', 'dld_path', 'dld_filename',\n",
       "       'dld_getArg', 'urlLen', 'domainlength', 'pathLength', 'subDirLen',\n",
       "       'fileNameLen', 'this.fileExtLen', 'ArgLen', 'pathurlRatio',\n",
       "       'ArgUrlRatio', 'argDomanRatio', 'domainUrlRatio', 'pathDomainRatio',\n",
       "       'argPathRatio', 'executable', 'isPortEighty', 'NumberofDotsinURL',\n",
       "       'ISIpAddressInDomainName', 'CharacterContinuityRate',\n",
       "       'LongestVariableValue', 'URL_DigitCount', 'host_DigitCount',\n",
       "       'Directory_DigitCount', 'File_name_DigitCount', 'Extension_DigitCount',\n",
       "       'Query_DigitCount', 'URL_Letter_Count', 'host_letter_count',\n",
       "       'Directory_LetterCount', 'Filename_LetterCount',\n",
       "       'Extension_LetterCount', 'Query_LetterCount', 'LongestPathTokenLength',\n",
       "       'Domain_LongestWordLength', 'Path_LongestWordLength',\n",
       "       'sub-Directory_LongestWordLength', 'Arguments_LongestWordLength',\n",
       "       'URL_sensitiveWord', 'URLQueries_variable', 'spcharUrl',\n",
       "       'delimeter_Domain', 'delimeter_path', 'delimeter_Count',\n",
       "       'NumberRate_URL', 'NumberRate_Domain', 'NumberRate_DirectoryName',\n",
       "       'NumberRate_FileName', 'SymbolCount_URL', 'SymbolCount_Domain',\n",
       "       'SymbolCount_Directoryname', 'SymbolCount_FileName',\n",
       "       'SymbolCount_Extension', 'SymbolCount_Afterpath', 'Entropy_URL',\n",
       "       'Entropy_Domain', 'URL_Type_obf_Type'],\n",
       "      dtype='object')"
      ]
     },
     "execution_count": 73,
     "metadata": {
      "tags": []
     },
     "output_type": "execute_result"
    }
   ],
   "source": [
    "df1.columns"
   ]
  },
  {
   "cell_type": "markdown",
   "metadata": {
    "colab_type": "text",
    "id": "wX24a-Woplwt"
   },
   "source": [
    "### Display Matrix Shape of Data\n",
    "> In the format (samples, columns)"
   ]
  },
  {
   "cell_type": "code",
   "execution_count": 74,
   "metadata": {
    "colab": {
     "base_uri": "https://localhost:8080/",
     "height": 34
    },
    "colab_type": "code",
    "id": "NBvgfW-J--g8",
    "outputId": "2eb83436-d8c3-4842-ce8a-642616928cdf"
   },
   "outputs": [
    {
     "data": {
      "text/plain": [
       "(36697, 73)"
      ]
     },
     "execution_count": 74,
     "metadata": {
      "tags": []
     },
     "output_type": "execute_result"
    }
   ],
   "source": [
    "df1.shape"
   ]
  },
  {
   "cell_type": "markdown",
   "metadata": {
    "colab_type": "text",
    "id": "BSjQXVYKplw0"
   },
   "source": [
    "### Display First Samples in Data"
   ]
  },
  {
   "cell_type": "code",
   "execution_count": 75,
   "metadata": {
    "colab": {
     "base_uri": "https://localhost:8080/",
     "height": 241
    },
    "colab_type": "code",
    "id": "9eYtvDf5AAR5",
    "outputId": "21ad29c8-9f07-45a8-dfee-8a096986933c"
   },
   "outputs": [
    {
     "data": {
      "text/html": [
       "<div>\n",
       "<style scoped>\n",
       "    .dataframe tbody tr th:only-of-type {\n",
       "        vertical-align: middle;\n",
       "    }\n",
       "\n",
       "    .dataframe tbody tr th {\n",
       "        vertical-align: top;\n",
       "    }\n",
       "\n",
       "    .dataframe thead th {\n",
       "        text-align: right;\n",
       "    }\n",
       "</style>\n",
       "<table border=\"1\" class=\"dataframe\">\n",
       "  <thead>\n",
       "    <tr style=\"text-align: right;\">\n",
       "      <th></th>\n",
       "      <th>Querylength</th>\n",
       "      <th>domain_token_count</th>\n",
       "      <th>path_token_count</th>\n",
       "      <th>avgdomaintokenlen</th>\n",
       "      <th>longdomaintokenlen</th>\n",
       "      <th>tld</th>\n",
       "      <th>charcompvowels</th>\n",
       "      <th>charcompace</th>\n",
       "      <th>ldl_url</th>\n",
       "      <th>ldl_domain</th>\n",
       "      <th>ldl_path</th>\n",
       "      <th>ldl_filename</th>\n",
       "      <th>ldl_getArg</th>\n",
       "      <th>dld_url</th>\n",
       "      <th>dld_domain</th>\n",
       "      <th>dld_path</th>\n",
       "      <th>dld_filename</th>\n",
       "      <th>dld_getArg</th>\n",
       "      <th>urlLen</th>\n",
       "      <th>domainlength</th>\n",
       "      <th>pathLength</th>\n",
       "      <th>subDirLen</th>\n",
       "      <th>fileNameLen</th>\n",
       "      <th>this.fileExtLen</th>\n",
       "      <th>ArgLen</th>\n",
       "      <th>pathurlRatio</th>\n",
       "      <th>ArgUrlRatio</th>\n",
       "      <th>argDomanRatio</th>\n",
       "      <th>domainUrlRatio</th>\n",
       "      <th>pathDomainRatio</th>\n",
       "      <th>argPathRatio</th>\n",
       "      <th>executable</th>\n",
       "      <th>isPortEighty</th>\n",
       "      <th>NumberofDotsinURL</th>\n",
       "      <th>ISIpAddressInDomainName</th>\n",
       "      <th>CharacterContinuityRate</th>\n",
       "      <th>LongestVariableValue</th>\n",
       "      <th>URL_DigitCount</th>\n",
       "      <th>host_DigitCount</th>\n",
       "      <th>Directory_DigitCount</th>\n",
       "      <th>File_name_DigitCount</th>\n",
       "      <th>Extension_DigitCount</th>\n",
       "      <th>Query_DigitCount</th>\n",
       "      <th>URL_Letter_Count</th>\n",
       "      <th>host_letter_count</th>\n",
       "      <th>Directory_LetterCount</th>\n",
       "      <th>Filename_LetterCount</th>\n",
       "      <th>Extension_LetterCount</th>\n",
       "      <th>Query_LetterCount</th>\n",
       "      <th>LongestPathTokenLength</th>\n",
       "      <th>Domain_LongestWordLength</th>\n",
       "      <th>Path_LongestWordLength</th>\n",
       "      <th>sub-Directory_LongestWordLength</th>\n",
       "      <th>Arguments_LongestWordLength</th>\n",
       "      <th>URL_sensitiveWord</th>\n",
       "      <th>URLQueries_variable</th>\n",
       "      <th>spcharUrl</th>\n",
       "      <th>delimeter_Domain</th>\n",
       "      <th>delimeter_path</th>\n",
       "      <th>delimeter_Count</th>\n",
       "      <th>NumberRate_URL</th>\n",
       "      <th>NumberRate_Domain</th>\n",
       "      <th>NumberRate_DirectoryName</th>\n",
       "      <th>NumberRate_FileName</th>\n",
       "      <th>SymbolCount_URL</th>\n",
       "      <th>SymbolCount_Domain</th>\n",
       "      <th>SymbolCount_Directoryname</th>\n",
       "      <th>SymbolCount_FileName</th>\n",
       "      <th>SymbolCount_Extension</th>\n",
       "      <th>SymbolCount_Afterpath</th>\n",
       "      <th>Entropy_URL</th>\n",
       "      <th>Entropy_Domain</th>\n",
       "      <th>URL_Type_obf_Type</th>\n",
       "    </tr>\n",
       "  </thead>\n",
       "  <tbody>\n",
       "    <tr>\n",
       "      <th>0</th>\n",
       "      <td>0</td>\n",
       "      <td>4</td>\n",
       "      <td>5</td>\n",
       "      <td>5.5</td>\n",
       "      <td>14</td>\n",
       "      <td>4</td>\n",
       "      <td>8</td>\n",
       "      <td>3</td>\n",
       "      <td>0</td>\n",
       "      <td>0</td>\n",
       "      <td>0</td>\n",
       "      <td>0</td>\n",
       "      <td>0</td>\n",
       "      <td>0</td>\n",
       "      <td>0</td>\n",
       "      <td>0</td>\n",
       "      <td>0</td>\n",
       "      <td>0</td>\n",
       "      <td>58</td>\n",
       "      <td>25</td>\n",
       "      <td>26</td>\n",
       "      <td>26</td>\n",
       "      <td>13</td>\n",
       "      <td>1</td>\n",
       "      <td>2</td>\n",
       "      <td>0.448276</td>\n",
       "      <td>0.034483</td>\n",
       "      <td>0.08</td>\n",
       "      <td>0.431034</td>\n",
       "      <td>1.04</td>\n",
       "      <td>0.07692308</td>\n",
       "      <td>0</td>\n",
       "      <td>-1</td>\n",
       "      <td>5</td>\n",
       "      <td>-1</td>\n",
       "      <td>0.6</td>\n",
       "      <td>-1</td>\n",
       "      <td>1</td>\n",
       "      <td>0</td>\n",
       "      <td>0</td>\n",
       "      <td>0</td>\n",
       "      <td>1</td>\n",
       "      <td>-1</td>\n",
       "      <td>47</td>\n",
       "      <td>22</td>\n",
       "      <td>8</td>\n",
       "      <td>13</td>\n",
       "      <td>0</td>\n",
       "      <td>-1</td>\n",
       "      <td>13</td>\n",
       "      <td>14</td>\n",
       "      <td>13</td>\n",
       "      <td>5</td>\n",
       "      <td>-1</td>\n",
       "      <td>0</td>\n",
       "      <td>0</td>\n",
       "      <td>3</td>\n",
       "      <td>0</td>\n",
       "      <td>2</td>\n",
       "      <td>-1</td>\n",
       "      <td>0.017241</td>\n",
       "      <td>0.0</td>\n",
       "      <td>0.0</td>\n",
       "      <td>0.066667</td>\n",
       "      <td>8</td>\n",
       "      <td>3</td>\n",
       "      <td>2</td>\n",
       "      <td>1</td>\n",
       "      <td>0</td>\n",
       "      <td>-1</td>\n",
       "      <td>0.726298</td>\n",
       "      <td>0.784493</td>\n",
       "      <td>Defacement</td>\n",
       "    </tr>\n",
       "    <tr>\n",
       "      <th>1</th>\n",
       "      <td>0</td>\n",
       "      <td>4</td>\n",
       "      <td>5</td>\n",
       "      <td>5.5</td>\n",
       "      <td>14</td>\n",
       "      <td>4</td>\n",
       "      <td>12</td>\n",
       "      <td>4</td>\n",
       "      <td>0</td>\n",
       "      <td>0</td>\n",
       "      <td>0</td>\n",
       "      <td>0</td>\n",
       "      <td>0</td>\n",
       "      <td>0</td>\n",
       "      <td>0</td>\n",
       "      <td>0</td>\n",
       "      <td>0</td>\n",
       "      <td>0</td>\n",
       "      <td>66</td>\n",
       "      <td>25</td>\n",
       "      <td>34</td>\n",
       "      <td>34</td>\n",
       "      <td>2</td>\n",
       "      <td>2</td>\n",
       "      <td>2</td>\n",
       "      <td>0.515151</td>\n",
       "      <td>0.030303</td>\n",
       "      <td>0.08</td>\n",
       "      <td>0.378788</td>\n",
       "      <td>1.36</td>\n",
       "      <td>0.05882353</td>\n",
       "      <td>0</td>\n",
       "      <td>-1</td>\n",
       "      <td>4</td>\n",
       "      <td>-1</td>\n",
       "      <td>0.6</td>\n",
       "      <td>-1</td>\n",
       "      <td>0</td>\n",
       "      <td>0</td>\n",
       "      <td>0</td>\n",
       "      <td>0</td>\n",
       "      <td>0</td>\n",
       "      <td>-1</td>\n",
       "      <td>56</td>\n",
       "      <td>22</td>\n",
       "      <td>8</td>\n",
       "      <td>13</td>\n",
       "      <td>9</td>\n",
       "      <td>-1</td>\n",
       "      <td>13</td>\n",
       "      <td>14</td>\n",
       "      <td>13</td>\n",
       "      <td>5</td>\n",
       "      <td>-1</td>\n",
       "      <td>0</td>\n",
       "      <td>0</td>\n",
       "      <td>4</td>\n",
       "      <td>0</td>\n",
       "      <td>1</td>\n",
       "      <td>-1</td>\n",
       "      <td>0.000000</td>\n",
       "      <td>0.0</td>\n",
       "      <td>0.0</td>\n",
       "      <td>0.000000</td>\n",
       "      <td>8</td>\n",
       "      <td>3</td>\n",
       "      <td>3</td>\n",
       "      <td>0</td>\n",
       "      <td>0</td>\n",
       "      <td>-1</td>\n",
       "      <td>0.688635</td>\n",
       "      <td>0.784493</td>\n",
       "      <td>Defacement</td>\n",
       "    </tr>\n",
       "    <tr>\n",
       "      <th>2</th>\n",
       "      <td>0</td>\n",
       "      <td>4</td>\n",
       "      <td>5</td>\n",
       "      <td>5.5</td>\n",
       "      <td>14</td>\n",
       "      <td>4</td>\n",
       "      <td>12</td>\n",
       "      <td>5</td>\n",
       "      <td>0</td>\n",
       "      <td>0</td>\n",
       "      <td>0</td>\n",
       "      <td>0</td>\n",
       "      <td>0</td>\n",
       "      <td>0</td>\n",
       "      <td>0</td>\n",
       "      <td>0</td>\n",
       "      <td>0</td>\n",
       "      <td>0</td>\n",
       "      <td>65</td>\n",
       "      <td>25</td>\n",
       "      <td>33</td>\n",
       "      <td>33</td>\n",
       "      <td>2</td>\n",
       "      <td>2</td>\n",
       "      <td>2</td>\n",
       "      <td>0.507692</td>\n",
       "      <td>0.030769</td>\n",
       "      <td>0.08</td>\n",
       "      <td>0.384615</td>\n",
       "      <td>1.32</td>\n",
       "      <td>0.060606062</td>\n",
       "      <td>0</td>\n",
       "      <td>-1</td>\n",
       "      <td>4</td>\n",
       "      <td>-1</td>\n",
       "      <td>0.6</td>\n",
       "      <td>-1</td>\n",
       "      <td>0</td>\n",
       "      <td>0</td>\n",
       "      <td>0</td>\n",
       "      <td>0</td>\n",
       "      <td>0</td>\n",
       "      <td>-1</td>\n",
       "      <td>55</td>\n",
       "      <td>22</td>\n",
       "      <td>8</td>\n",
       "      <td>13</td>\n",
       "      <td>8</td>\n",
       "      <td>-1</td>\n",
       "      <td>13</td>\n",
       "      <td>14</td>\n",
       "      <td>13</td>\n",
       "      <td>5</td>\n",
       "      <td>-1</td>\n",
       "      <td>0</td>\n",
       "      <td>0</td>\n",
       "      <td>4</td>\n",
       "      <td>0</td>\n",
       "      <td>1</td>\n",
       "      <td>-1</td>\n",
       "      <td>0.000000</td>\n",
       "      <td>0.0</td>\n",
       "      <td>0.0</td>\n",
       "      <td>0.000000</td>\n",
       "      <td>8</td>\n",
       "      <td>3</td>\n",
       "      <td>3</td>\n",
       "      <td>0</td>\n",
       "      <td>0</td>\n",
       "      <td>-1</td>\n",
       "      <td>0.695049</td>\n",
       "      <td>0.784493</td>\n",
       "      <td>Defacement</td>\n",
       "    </tr>\n",
       "    <tr>\n",
       "      <th>3</th>\n",
       "      <td>0</td>\n",
       "      <td>4</td>\n",
       "      <td>12</td>\n",
       "      <td>5.5</td>\n",
       "      <td>14</td>\n",
       "      <td>4</td>\n",
       "      <td>32</td>\n",
       "      <td>16</td>\n",
       "      <td>0</td>\n",
       "      <td>0</td>\n",
       "      <td>0</td>\n",
       "      <td>0</td>\n",
       "      <td>0</td>\n",
       "      <td>0</td>\n",
       "      <td>0</td>\n",
       "      <td>0</td>\n",
       "      <td>0</td>\n",
       "      <td>0</td>\n",
       "      <td>109</td>\n",
       "      <td>25</td>\n",
       "      <td>77</td>\n",
       "      <td>77</td>\n",
       "      <td>2</td>\n",
       "      <td>2</td>\n",
       "      <td>2</td>\n",
       "      <td>0.706422</td>\n",
       "      <td>0.018349</td>\n",
       "      <td>0.08</td>\n",
       "      <td>0.229358</td>\n",
       "      <td>3.08</td>\n",
       "      <td>0.025974026</td>\n",
       "      <td>0</td>\n",
       "      <td>-1</td>\n",
       "      <td>4</td>\n",
       "      <td>-1</td>\n",
       "      <td>0.6</td>\n",
       "      <td>-1</td>\n",
       "      <td>0</td>\n",
       "      <td>0</td>\n",
       "      <td>0</td>\n",
       "      <td>0</td>\n",
       "      <td>0</td>\n",
       "      <td>-1</td>\n",
       "      <td>92</td>\n",
       "      <td>22</td>\n",
       "      <td>8</td>\n",
       "      <td>13</td>\n",
       "      <td>45</td>\n",
       "      <td>-1</td>\n",
       "      <td>52</td>\n",
       "      <td>14</td>\n",
       "      <td>13</td>\n",
       "      <td>13</td>\n",
       "      <td>-1</td>\n",
       "      <td>0</td>\n",
       "      <td>0</td>\n",
       "      <td>4</td>\n",
       "      <td>0</td>\n",
       "      <td>8</td>\n",
       "      <td>-1</td>\n",
       "      <td>0.000000</td>\n",
       "      <td>0.0</td>\n",
       "      <td>0.0</td>\n",
       "      <td>0.000000</td>\n",
       "      <td>8</td>\n",
       "      <td>3</td>\n",
       "      <td>3</td>\n",
       "      <td>0</td>\n",
       "      <td>0</td>\n",
       "      <td>-1</td>\n",
       "      <td>0.640130</td>\n",
       "      <td>0.784493</td>\n",
       "      <td>Defacement</td>\n",
       "    </tr>\n",
       "    <tr>\n",
       "      <th>4</th>\n",
       "      <td>0</td>\n",
       "      <td>4</td>\n",
       "      <td>6</td>\n",
       "      <td>5.5</td>\n",
       "      <td>14</td>\n",
       "      <td>4</td>\n",
       "      <td>18</td>\n",
       "      <td>11</td>\n",
       "      <td>0</td>\n",
       "      <td>0</td>\n",
       "      <td>0</td>\n",
       "      <td>0</td>\n",
       "      <td>0</td>\n",
       "      <td>0</td>\n",
       "      <td>0</td>\n",
       "      <td>0</td>\n",
       "      <td>0</td>\n",
       "      <td>0</td>\n",
       "      <td>81</td>\n",
       "      <td>25</td>\n",
       "      <td>49</td>\n",
       "      <td>49</td>\n",
       "      <td>2</td>\n",
       "      <td>2</td>\n",
       "      <td>2</td>\n",
       "      <td>0.604938</td>\n",
       "      <td>0.024691</td>\n",
       "      <td>0.08</td>\n",
       "      <td>0.308642</td>\n",
       "      <td>1.96</td>\n",
       "      <td>0.040816326</td>\n",
       "      <td>0</td>\n",
       "      <td>-1</td>\n",
       "      <td>4</td>\n",
       "      <td>-1</td>\n",
       "      <td>0.6</td>\n",
       "      <td>-1</td>\n",
       "      <td>0</td>\n",
       "      <td>0</td>\n",
       "      <td>0</td>\n",
       "      <td>0</td>\n",
       "      <td>0</td>\n",
       "      <td>-1</td>\n",
       "      <td>70</td>\n",
       "      <td>22</td>\n",
       "      <td>8</td>\n",
       "      <td>13</td>\n",
       "      <td>23</td>\n",
       "      <td>-1</td>\n",
       "      <td>24</td>\n",
       "      <td>14</td>\n",
       "      <td>13</td>\n",
       "      <td>13</td>\n",
       "      <td>-1</td>\n",
       "      <td>0</td>\n",
       "      <td>0</td>\n",
       "      <td>4</td>\n",
       "      <td>0</td>\n",
       "      <td>2</td>\n",
       "      <td>-1</td>\n",
       "      <td>0.000000</td>\n",
       "      <td>0.0</td>\n",
       "      <td>0.0</td>\n",
       "      <td>0.000000</td>\n",
       "      <td>8</td>\n",
       "      <td>3</td>\n",
       "      <td>3</td>\n",
       "      <td>0</td>\n",
       "      <td>0</td>\n",
       "      <td>-1</td>\n",
       "      <td>0.681307</td>\n",
       "      <td>0.784493</td>\n",
       "      <td>Defacement</td>\n",
       "    </tr>\n",
       "  </tbody>\n",
       "</table>\n",
       "</div>"
      ],
      "text/plain": [
       "   Querylength  domain_token_count  ...  Entropy_Domain  URL_Type_obf_Type\n",
       "0            0                   4  ...        0.784493         Defacement\n",
       "1            0                   4  ...        0.784493         Defacement\n",
       "2            0                   4  ...        0.784493         Defacement\n",
       "3            0                   4  ...        0.784493         Defacement\n",
       "4            0                   4  ...        0.784493         Defacement\n",
       "\n",
       "[5 rows x 73 columns]"
      ]
     },
     "execution_count": 75,
     "metadata": {
      "tags": []
     },
     "output_type": "execute_result"
    }
   ],
   "source": [
    "df1.head()"
   ]
  },
  {
   "cell_type": "markdown",
   "metadata": {
    "colab_type": "text",
    "id": "OLiGVjzOplw6"
   },
   "source": [
    "### Display Last Samples in Data"
   ]
  },
  {
   "cell_type": "code",
   "execution_count": 76,
   "metadata": {
    "colab": {
     "base_uri": "https://localhost:8080/",
     "height": 241
    },
    "colab_type": "code",
    "id": "LsqLE8Wnplw7",
    "outputId": "ae7b199c-00db-41b3-ed0f-0bc09f990892"
   },
   "outputs": [
    {
     "data": {
      "text/html": [
       "<div>\n",
       "<style scoped>\n",
       "    .dataframe tbody tr th:only-of-type {\n",
       "        vertical-align: middle;\n",
       "    }\n",
       "\n",
       "    .dataframe tbody tr th {\n",
       "        vertical-align: top;\n",
       "    }\n",
       "\n",
       "    .dataframe thead th {\n",
       "        text-align: right;\n",
       "    }\n",
       "</style>\n",
       "<table border=\"1\" class=\"dataframe\">\n",
       "  <thead>\n",
       "    <tr style=\"text-align: right;\">\n",
       "      <th></th>\n",
       "      <th>Querylength</th>\n",
       "      <th>domain_token_count</th>\n",
       "      <th>path_token_count</th>\n",
       "      <th>avgdomaintokenlen</th>\n",
       "      <th>longdomaintokenlen</th>\n",
       "      <th>tld</th>\n",
       "      <th>charcompvowels</th>\n",
       "      <th>charcompace</th>\n",
       "      <th>ldl_url</th>\n",
       "      <th>ldl_domain</th>\n",
       "      <th>ldl_path</th>\n",
       "      <th>ldl_filename</th>\n",
       "      <th>ldl_getArg</th>\n",
       "      <th>dld_url</th>\n",
       "      <th>dld_domain</th>\n",
       "      <th>dld_path</th>\n",
       "      <th>dld_filename</th>\n",
       "      <th>dld_getArg</th>\n",
       "      <th>urlLen</th>\n",
       "      <th>domainlength</th>\n",
       "      <th>pathLength</th>\n",
       "      <th>subDirLen</th>\n",
       "      <th>fileNameLen</th>\n",
       "      <th>this.fileExtLen</th>\n",
       "      <th>ArgLen</th>\n",
       "      <th>pathurlRatio</th>\n",
       "      <th>ArgUrlRatio</th>\n",
       "      <th>argDomanRatio</th>\n",
       "      <th>domainUrlRatio</th>\n",
       "      <th>pathDomainRatio</th>\n",
       "      <th>argPathRatio</th>\n",
       "      <th>executable</th>\n",
       "      <th>isPortEighty</th>\n",
       "      <th>NumberofDotsinURL</th>\n",
       "      <th>ISIpAddressInDomainName</th>\n",
       "      <th>CharacterContinuityRate</th>\n",
       "      <th>LongestVariableValue</th>\n",
       "      <th>URL_DigitCount</th>\n",
       "      <th>host_DigitCount</th>\n",
       "      <th>Directory_DigitCount</th>\n",
       "      <th>File_name_DigitCount</th>\n",
       "      <th>Extension_DigitCount</th>\n",
       "      <th>Query_DigitCount</th>\n",
       "      <th>URL_Letter_Count</th>\n",
       "      <th>host_letter_count</th>\n",
       "      <th>Directory_LetterCount</th>\n",
       "      <th>Filename_LetterCount</th>\n",
       "      <th>Extension_LetterCount</th>\n",
       "      <th>Query_LetterCount</th>\n",
       "      <th>LongestPathTokenLength</th>\n",
       "      <th>Domain_LongestWordLength</th>\n",
       "      <th>Path_LongestWordLength</th>\n",
       "      <th>sub-Directory_LongestWordLength</th>\n",
       "      <th>Arguments_LongestWordLength</th>\n",
       "      <th>URL_sensitiveWord</th>\n",
       "      <th>URLQueries_variable</th>\n",
       "      <th>spcharUrl</th>\n",
       "      <th>delimeter_Domain</th>\n",
       "      <th>delimeter_path</th>\n",
       "      <th>delimeter_Count</th>\n",
       "      <th>NumberRate_URL</th>\n",
       "      <th>NumberRate_Domain</th>\n",
       "      <th>NumberRate_DirectoryName</th>\n",
       "      <th>NumberRate_FileName</th>\n",
       "      <th>SymbolCount_URL</th>\n",
       "      <th>SymbolCount_Domain</th>\n",
       "      <th>SymbolCount_Directoryname</th>\n",
       "      <th>SymbolCount_FileName</th>\n",
       "      <th>SymbolCount_Extension</th>\n",
       "      <th>SymbolCount_Afterpath</th>\n",
       "      <th>Entropy_URL</th>\n",
       "      <th>Entropy_Domain</th>\n",
       "      <th>URL_Type_obf_Type</th>\n",
       "    </tr>\n",
       "  </thead>\n",
       "  <tbody>\n",
       "    <tr>\n",
       "      <th>36702</th>\n",
       "      <td>29</td>\n",
       "      <td>4</td>\n",
       "      <td>14</td>\n",
       "      <td>5.750000</td>\n",
       "      <td>12</td>\n",
       "      <td>4</td>\n",
       "      <td>20</td>\n",
       "      <td>24</td>\n",
       "      <td>3</td>\n",
       "      <td>0</td>\n",
       "      <td>3</td>\n",
       "      <td>0</td>\n",
       "      <td>2</td>\n",
       "      <td>0</td>\n",
       "      <td>0</td>\n",
       "      <td>0</td>\n",
       "      <td>0</td>\n",
       "      <td>0</td>\n",
       "      <td>146</td>\n",
       "      <td>26</td>\n",
       "      <td>113</td>\n",
       "      <td>113</td>\n",
       "      <td>2</td>\n",
       "      <td>2</td>\n",
       "      <td>85</td>\n",
       "      <td>0.773973</td>\n",
       "      <td>0.582192</td>\n",
       "      <td>3.269231</td>\n",
       "      <td>0.178082</td>\n",
       "      <td>4.346154</td>\n",
       "      <td>0.7522124</td>\n",
       "      <td>0</td>\n",
       "      <td>-1</td>\n",
       "      <td>5</td>\n",
       "      <td>-1</td>\n",
       "      <td>0.500000</td>\n",
       "      <td>23</td>\n",
       "      <td>31</td>\n",
       "      <td>0</td>\n",
       "      <td>4</td>\n",
       "      <td>0</td>\n",
       "      <td>27</td>\n",
       "      <td>3</td>\n",
       "      <td>94</td>\n",
       "      <td>23</td>\n",
       "      <td>46</td>\n",
       "      <td>7</td>\n",
       "      <td>14</td>\n",
       "      <td>24</td>\n",
       "      <td>43</td>\n",
       "      <td>12</td>\n",
       "      <td>11</td>\n",
       "      <td>11</td>\n",
       "      <td>23</td>\n",
       "      <td>0</td>\n",
       "      <td>3</td>\n",
       "      <td>6</td>\n",
       "      <td>0</td>\n",
       "      <td>2</td>\n",
       "      <td>5</td>\n",
       "      <td>0.212329</td>\n",
       "      <td>0.0</td>\n",
       "      <td>0.064516</td>\n",
       "      <td>0.529412</td>\n",
       "      <td>19</td>\n",
       "      <td>3</td>\n",
       "      <td>11</td>\n",
       "      <td>3</td>\n",
       "      <td>2</td>\n",
       "      <td>7</td>\n",
       "      <td>0.690555</td>\n",
       "      <td>0.791265</td>\n",
       "      <td>spam</td>\n",
       "    </tr>\n",
       "    <tr>\n",
       "      <th>36703</th>\n",
       "      <td>0</td>\n",
       "      <td>4</td>\n",
       "      <td>13</td>\n",
       "      <td>3.750000</td>\n",
       "      <td>8</td>\n",
       "      <td>4</td>\n",
       "      <td>24</td>\n",
       "      <td>23</td>\n",
       "      <td>0</td>\n",
       "      <td>0</td>\n",
       "      <td>0</td>\n",
       "      <td>0</td>\n",
       "      <td>0</td>\n",
       "      <td>0</td>\n",
       "      <td>0</td>\n",
       "      <td>0</td>\n",
       "      <td>0</td>\n",
       "      <td>0</td>\n",
       "      <td>147</td>\n",
       "      <td>18</td>\n",
       "      <td>122</td>\n",
       "      <td>122</td>\n",
       "      <td>2</td>\n",
       "      <td>2</td>\n",
       "      <td>2</td>\n",
       "      <td>0.829932</td>\n",
       "      <td>0.013605</td>\n",
       "      <td>0.111111</td>\n",
       "      <td>0.122449</td>\n",
       "      <td>6.777778</td>\n",
       "      <td>0.016393442</td>\n",
       "      <td>0</td>\n",
       "      <td>-1</td>\n",
       "      <td>5</td>\n",
       "      <td>-1</td>\n",
       "      <td>0.500000</td>\n",
       "      <td>-1</td>\n",
       "      <td>21</td>\n",
       "      <td>0</td>\n",
       "      <td>0</td>\n",
       "      <td>0</td>\n",
       "      <td>21</td>\n",
       "      <td>-1</td>\n",
       "      <td>101</td>\n",
       "      <td>15</td>\n",
       "      <td>7</td>\n",
       "      <td>6</td>\n",
       "      <td>69</td>\n",
       "      <td>-1</td>\n",
       "      <td>105</td>\n",
       "      <td>8</td>\n",
       "      <td>9</td>\n",
       "      <td>9</td>\n",
       "      <td>-1</td>\n",
       "      <td>0</td>\n",
       "      <td>0</td>\n",
       "      <td>3</td>\n",
       "      <td>0</td>\n",
       "      <td>2</td>\n",
       "      <td>-1</td>\n",
       "      <td>0.142857</td>\n",
       "      <td>0.0</td>\n",
       "      <td>0.000000</td>\n",
       "      <td>0.187500</td>\n",
       "      <td>23</td>\n",
       "      <td>3</td>\n",
       "      <td>2</td>\n",
       "      <td>16</td>\n",
       "      <td>15</td>\n",
       "      <td>-1</td>\n",
       "      <td>0.665492</td>\n",
       "      <td>0.820010</td>\n",
       "      <td>spam</td>\n",
       "    </tr>\n",
       "    <tr>\n",
       "      <th>36704</th>\n",
       "      <td>58</td>\n",
       "      <td>3</td>\n",
       "      <td>27</td>\n",
       "      <td>6.666666</td>\n",
       "      <td>16</td>\n",
       "      <td>3</td>\n",
       "      <td>41</td>\n",
       "      <td>34</td>\n",
       "      <td>20</td>\n",
       "      <td>0</td>\n",
       "      <td>20</td>\n",
       "      <td>0</td>\n",
       "      <td>18</td>\n",
       "      <td>12</td>\n",
       "      <td>0</td>\n",
       "      <td>12</td>\n",
       "      <td>0</td>\n",
       "      <td>12</td>\n",
       "      <td>246</td>\n",
       "      <td>22</td>\n",
       "      <td>217</td>\n",
       "      <td>217</td>\n",
       "      <td>2</td>\n",
       "      <td>2</td>\n",
       "      <td>182</td>\n",
       "      <td>0.882114</td>\n",
       "      <td>0.739837</td>\n",
       "      <td>8.272727</td>\n",
       "      <td>0.089431</td>\n",
       "      <td>9.863636</td>\n",
       "      <td>0.83870965</td>\n",
       "      <td>0</td>\n",
       "      <td>-1</td>\n",
       "      <td>7</td>\n",
       "      <td>-1</td>\n",
       "      <td>0.772727</td>\n",
       "      <td>58</td>\n",
       "      <td>57</td>\n",
       "      <td>0</td>\n",
       "      <td>6</td>\n",
       "      <td>0</td>\n",
       "      <td>51</td>\n",
       "      <td>1</td>\n",
       "      <td>156</td>\n",
       "      <td>20</td>\n",
       "      <td>71</td>\n",
       "      <td>3</td>\n",
       "      <td>58</td>\n",
       "      <td>48</td>\n",
       "      <td>118</td>\n",
       "      <td>16</td>\n",
       "      <td>12</td>\n",
       "      <td>12</td>\n",
       "      <td>0</td>\n",
       "      <td>0</td>\n",
       "      <td>1</td>\n",
       "      <td>12</td>\n",
       "      <td>0</td>\n",
       "      <td>9</td>\n",
       "      <td>1</td>\n",
       "      <td>0.231707</td>\n",
       "      <td>0.0</td>\n",
       "      <td>0.073171</td>\n",
       "      <td>0.377778</td>\n",
       "      <td>26</td>\n",
       "      <td>2</td>\n",
       "      <td>14</td>\n",
       "      <td>8</td>\n",
       "      <td>7</td>\n",
       "      <td>9</td>\n",
       "      <td>0.656807</td>\n",
       "      <td>0.801139</td>\n",
       "      <td>spam</td>\n",
       "    </tr>\n",
       "    <tr>\n",
       "      <th>36705</th>\n",
       "      <td>35</td>\n",
       "      <td>3</td>\n",
       "      <td>13</td>\n",
       "      <td>4.333334</td>\n",
       "      <td>9</td>\n",
       "      <td>3</td>\n",
       "      <td>15</td>\n",
       "      <td>13</td>\n",
       "      <td>7</td>\n",
       "      <td>0</td>\n",
       "      <td>7</td>\n",
       "      <td>0</td>\n",
       "      <td>7</td>\n",
       "      <td>4</td>\n",
       "      <td>0</td>\n",
       "      <td>4</td>\n",
       "      <td>0</td>\n",
       "      <td>4</td>\n",
       "      <td>116</td>\n",
       "      <td>15</td>\n",
       "      <td>94</td>\n",
       "      <td>94</td>\n",
       "      <td>2</td>\n",
       "      <td>2</td>\n",
       "      <td>71</td>\n",
       "      <td>0.810345</td>\n",
       "      <td>0.612069</td>\n",
       "      <td>4.733333</td>\n",
       "      <td>0.129310</td>\n",
       "      <td>6.266667</td>\n",
       "      <td>0.7553192</td>\n",
       "      <td>0</td>\n",
       "      <td>-1</td>\n",
       "      <td>3</td>\n",
       "      <td>-1</td>\n",
       "      <td>0.666667</td>\n",
       "      <td>32</td>\n",
       "      <td>25</td>\n",
       "      <td>0</td>\n",
       "      <td>0</td>\n",
       "      <td>0</td>\n",
       "      <td>25</td>\n",
       "      <td>23</td>\n",
       "      <td>73</td>\n",
       "      <td>13</td>\n",
       "      <td>4</td>\n",
       "      <td>11</td>\n",
       "      <td>41</td>\n",
       "      <td>12</td>\n",
       "      <td>75</td>\n",
       "      <td>9</td>\n",
       "      <td>8</td>\n",
       "      <td>8</td>\n",
       "      <td>0</td>\n",
       "      <td>0</td>\n",
       "      <td>2</td>\n",
       "      <td>3</td>\n",
       "      <td>0</td>\n",
       "      <td>3</td>\n",
       "      <td>3</td>\n",
       "      <td>0.215517</td>\n",
       "      <td>0.0</td>\n",
       "      <td>0.000000</td>\n",
       "      <td>0.284091</td>\n",
       "      <td>14</td>\n",
       "      <td>2</td>\n",
       "      <td>1</td>\n",
       "      <td>9</td>\n",
       "      <td>8</td>\n",
       "      <td>3</td>\n",
       "      <td>0.725963</td>\n",
       "      <td>0.897617</td>\n",
       "      <td>spam</td>\n",
       "    </tr>\n",
       "    <tr>\n",
       "      <th>36706</th>\n",
       "      <td>40</td>\n",
       "      <td>3</td>\n",
       "      <td>25</td>\n",
       "      <td>6.666666</td>\n",
       "      <td>16</td>\n",
       "      <td>3</td>\n",
       "      <td>35</td>\n",
       "      <td>31</td>\n",
       "      <td>19</td>\n",
       "      <td>0</td>\n",
       "      <td>19</td>\n",
       "      <td>0</td>\n",
       "      <td>17</td>\n",
       "      <td>6</td>\n",
       "      <td>0</td>\n",
       "      <td>6</td>\n",
       "      <td>0</td>\n",
       "      <td>6</td>\n",
       "      <td>227</td>\n",
       "      <td>22</td>\n",
       "      <td>198</td>\n",
       "      <td>198</td>\n",
       "      <td>2</td>\n",
       "      <td>2</td>\n",
       "      <td>164</td>\n",
       "      <td>0.872247</td>\n",
       "      <td>0.722467</td>\n",
       "      <td>7.454546</td>\n",
       "      <td>0.096916</td>\n",
       "      <td>9.000000</td>\n",
       "      <td>0.82828283</td>\n",
       "      <td>0</td>\n",
       "      <td>-1</td>\n",
       "      <td>6</td>\n",
       "      <td>-1</td>\n",
       "      <td>0.772727</td>\n",
       "      <td>40</td>\n",
       "      <td>52</td>\n",
       "      <td>0</td>\n",
       "      <td>6</td>\n",
       "      <td>1</td>\n",
       "      <td>45</td>\n",
       "      <td>2</td>\n",
       "      <td>144</td>\n",
       "      <td>20</td>\n",
       "      <td>50</td>\n",
       "      <td>6</td>\n",
       "      <td>64</td>\n",
       "      <td>31</td>\n",
       "      <td>118</td>\n",
       "      <td>16</td>\n",
       "      <td>10</td>\n",
       "      <td>10</td>\n",
       "      <td>0</td>\n",
       "      <td>0</td>\n",
       "      <td>1</td>\n",
       "      <td>11</td>\n",
       "      <td>0</td>\n",
       "      <td>8</td>\n",
       "      <td>1</td>\n",
       "      <td>0.229075</td>\n",
       "      <td>0.0</td>\n",
       "      <td>0.083333</td>\n",
       "      <td>0.365079</td>\n",
       "      <td>24</td>\n",
       "      <td>2</td>\n",
       "      <td>13</td>\n",
       "      <td>7</td>\n",
       "      <td>6</td>\n",
       "      <td>7</td>\n",
       "      <td>0.674351</td>\n",
       "      <td>0.801139</td>\n",
       "      <td>spam</td>\n",
       "    </tr>\n",
       "  </tbody>\n",
       "</table>\n",
       "</div>"
      ],
      "text/plain": [
       "       Querylength  domain_token_count  ...  Entropy_Domain  URL_Type_obf_Type\n",
       "36702           29                   4  ...        0.791265               spam\n",
       "36703            0                   4  ...        0.820010               spam\n",
       "36704           58                   3  ...        0.801139               spam\n",
       "36705           35                   3  ...        0.897617               spam\n",
       "36706           40                   3  ...        0.801139               spam\n",
       "\n",
       "[5 rows x 73 columns]"
      ]
     },
     "execution_count": 76,
     "metadata": {
      "tags": []
     },
     "output_type": "execute_result"
    }
   ],
   "source": [
    "df1.tail()"
   ]
  },
  {
   "cell_type": "markdown",
   "metadata": {
    "colab_type": "text",
    "id": "f2zcKS_DAGcx"
   },
   "source": [
    "  ## Experimenting with Final Dataset/All.csv\n",
    "  \n",
    "  #### Total Samples for each Type"
   ]
  },
  {
   "cell_type": "code",
   "execution_count": 77,
   "metadata": {
    "colab": {
     "base_uri": "https://localhost:8080/",
     "height": 102
    },
    "colab_type": "code",
    "id": "NuFeBCWJABj9",
    "outputId": "6697ca53-5674-4892-d801-f8cf044299f5"
   },
   "outputs": [
    {
     "name": "stdout",
     "output_type": "stream",
     "text": [
      "| Defacement | 7930 |\n",
      "| phishing | 7577 |\n",
      "| malware | 6711 |\n",
      "| spam | 6698 |\n",
      "| benign | 7781 |\n"
     ]
    }
   ],
   "source": [
    "label = 'URL_Type_obf_Type'\n",
    "lblTypes=set(df1[label])\n",
    "for lbl in lblTypes:\n",
    "    print('| {} | {} |'.format(lbl, len(df1[df1[label] == lbl].index)))"
   ]
  },
  {
   "cell_type": "code",
   "execution_count": 0,
   "metadata": {
    "colab": {},
    "colab_type": "code",
    "id": "KlTOWuf8A_Yy"
   },
   "outputs": [],
   "source": [
    "dataPath = 'FinalDataset'\n",
    "dep_var = label"
   ]
  },
  {
   "cell_type": "markdown",
   "metadata": {
    "colab_type": "text",
    "id": "B1keV97eplxW"
   },
   "source": [
    "### Cast column values to float\n",
    "> Values in this column register as object type, which isn't valid for testing, so cast them to float"
   ]
  },
  {
   "cell_type": "code",
   "execution_count": 0,
   "metadata": {
    "colab": {},
    "colab_type": "code",
    "id": "2nFBzqafCKkG"
   },
   "outputs": [],
   "source": [
    "df1.argPathRatio = df1['argPathRatio'].astype('float')"
   ]
  },
  {
   "cell_type": "markdown",
   "metadata": {
    "colab_type": "text",
    "id": "AaUqSRUiItig"
   },
   "source": [
    "## Experimenting with Tensorflow Keras"
   ]
  },
  {
   "cell_type": "markdown",
   "metadata": {
    "colab_type": "text",
    "id": "4c-GxIVIIZAR"
   },
   "source": [
    "#### Globals for Testing\n"
   ]
  },
  {
   "cell_type": "code",
   "execution_count": 0,
   "metadata": {
    "colab": {},
    "colab_type": "code",
    "id": "x-fMOCE2I7MI"
   },
   "outputs": [],
   "source": [
    "dataFile = 'All.csv'\n",
    "epochs=100\n",
    "batch_size=64"
   ]
  },
  {
   "cell_type": "markdown",
   "metadata": {
    "colab_type": "text",
    "id": "mxNlAPk2plxh"
   },
   "source": [
    "#### Show uncoded label column"
   ]
  },
  {
   "cell_type": "code",
   "execution_count": 81,
   "metadata": {
    "colab": {
     "base_uri": "https://localhost:8080/",
     "height": 0
    },
    "colab_type": "code",
    "id": "ZfKJek8splxi",
    "outputId": "4d36d4c1-a91d-41b4-b406-373df06a4de9"
   },
   "outputs": [
    {
     "data": {
      "text/plain": [
       "0        Defacement\n",
       "1        Defacement\n",
       "2        Defacement\n",
       "3        Defacement\n",
       "4        Defacement\n",
       "5        Defacement\n",
       "6        Defacement\n",
       "7        Defacement\n",
       "8        Defacement\n",
       "9        Defacement\n",
       "10       Defacement\n",
       "11       Defacement\n",
       "12       Defacement\n",
       "13       Defacement\n",
       "14       Defacement\n",
       "15       Defacement\n",
       "16       Defacement\n",
       "17       Defacement\n",
       "18       Defacement\n",
       "19       Defacement\n",
       "20       Defacement\n",
       "21       Defacement\n",
       "22       Defacement\n",
       "23       Defacement\n",
       "24       Defacement\n",
       "25       Defacement\n",
       "26       Defacement\n",
       "27       Defacement\n",
       "28       Defacement\n",
       "29       Defacement\n",
       "            ...    \n",
       "36677          spam\n",
       "36678          spam\n",
       "36679          spam\n",
       "36680          spam\n",
       "36681          spam\n",
       "36682          spam\n",
       "36683          spam\n",
       "36684          spam\n",
       "36685          spam\n",
       "36686          spam\n",
       "36687          spam\n",
       "36688          spam\n",
       "36689          spam\n",
       "36690          spam\n",
       "36691          spam\n",
       "36692          spam\n",
       "36693          spam\n",
       "36694          spam\n",
       "36695          spam\n",
       "36696          spam\n",
       "36697          spam\n",
       "36698          spam\n",
       "36699          spam\n",
       "36700          spam\n",
       "36701          spam\n",
       "36702          spam\n",
       "36703          spam\n",
       "36704          spam\n",
       "36705          spam\n",
       "36706          spam\n",
       "Name: URL_Type_obf_Type, Length: 36697, dtype: object"
      ]
     },
     "execution_count": 81,
     "metadata": {
      "tags": []
     },
     "output_type": "execute_result"
    }
   ],
   "source": [
    "df1[dep_var]"
   ]
  },
  {
   "cell_type": "markdown",
   "metadata": {
    "colab_type": "text",
    "id": "ikcFoxzcplxt"
   },
   "source": [
    "#### Random seed for splitting"
   ]
  },
  {
   "cell_type": "code",
   "execution_count": 0,
   "metadata": {
    "colab": {},
    "colab_type": "code",
    "id": "41We5rvNplxu"
   },
   "outputs": [],
   "source": [
    "seed = 7\n",
    "np.random.seed(seed)"
   ]
  },
  {
   "cell_type": "code",
   "execution_count": 0,
   "metadata": {
    "colab": {},
    "colab_type": "code",
    "id": "LZVQv1Yf--45"
   },
   "outputs": [],
   "source": [
    "for file in glob.glob('keras_tensorflow_logs/Categorical*'):\n",
    "        if os.path.exists(file):\n",
    "            shutil.rmtree(file)\n",
    "for file in glob.glob('keras_tensorflow_logs/Binary*'):\n",
    "    if os.path.exists(file):\n",
    "        shutil.rmtree(file)"
   ]
  },
  {
   "cell_type": "markdown",
   "metadata": {
    "colab_type": "text",
    "id": "tRIlEuMmDHbY"
   },
   "source": [
    "### Overfitting and Underfitting\n",
    "We need to test the best way to avoid over/under-fitting. \n",
    "\n",
    "1. I want to setup an early stop using the Keras Function\n",
    "2. I want to give the models a full train to see overfitting/underfitting results for the base model.\n",
    "2. I will test Early Stop to prevent underfitting\n",
    "3. I will test Weight Regularization\n",
    "4. I will test a dropout\n",
    "\n",
    "> our goal is to train quickly and efficiently. "
   ]
  },
  {
   "cell_type": "code",
   "execution_count": 0,
   "metadata": {
    "colab": {},
    "colab_type": "code",
    "id": "bqrMvP79DOlD"
   },
   "outputs": [],
   "source": [
    "#Constants for this\n",
    "early_stop = keras.callbacks.EarlyStopping(monitor='val_loss', patience=5)\n",
    "import datetime\n"
   ]
  },
  {
   "cell_type": "markdown",
   "metadata": {
    "colab_type": "text",
    "id": "VUlPMdGoD3on"
   },
   "source": [
    "* We will use the function experiment and edit it until the model is properly fitted."
   ]
  },
  {
   "cell_type": "markdown",
   "metadata": {
    "colab_type": "text",
    "id": "dDdgkOumKUPL"
   },
   "source": [
    "####  Model Creation steps\n",
    "1. Create a model with no changes\n",
    "2. Add the Early Stop\n",
    "3. test Dropout\n",
    "4. Test weight regularization\n",
    "5. Results\n"
   ]
  },
  {
   "cell_type": "markdown",
   "metadata": {
    "colab_type": "text",
    "id": "-lx4z_kYgucn"
   },
   "source": [
    "##### BaseLine test 1"
   ]
  },
  {
   "cell_type": "code",
   "execution_count": 0,
   "metadata": {
    "colab": {},
    "colab_type": "code",
    "id": "fz2Fc0ySKZH1"
   },
   "outputs": [],
   "source": [
    "def TESTbaseline_model(inputDim=-1,outputDim=-1):\n",
    "    global model_extension, experimentTitle\n",
    "    model = tf.keras.Sequential([\n",
    "        Dense(128, activation='relu', input_shape=(inputDim,)),\n",
    "        BatchNormalization(),\n",
    "        Dense(64, activation='relu'),\n",
    "        BatchNormalization(),\n",
    "        Dense(outputDim, activation='softmax')\n",
    "    ]) #This is the output layer\n",
    "\n",
    "    if outputDim > 2:\n",
    "        print('Categorical Cross-Entropy Loss Function')\n",
    "        model_extension = \"_categorical\"\n",
    "        experimentTitle = \"Categorical\"\n",
    "        model.compile(optimizer='adam',\n",
    "                 loss='categorical_crossentropy',\n",
    "                 metrics=['accuracy'])\n",
    "    else:\n",
    "        print('Binary Cross-Entropy Loss Function')\n",
    "        model_extension = \"_binary\"\n",
    "        experimentTitle = \"Binary\"\n",
    "        model.compile(optimizer='adam',\n",
    "                loss='binary_crossentropy',\n",
    "                metrics=['accuracy'])\n",
    "\n",
    "    return model\n",
    "def BaseLine_experiment(dataframe, early=False):\n",
    "    kfold = StratifiedKFold(n_splits=10, shuffle=True, random_state=seed)\n",
    "    encoded_y = dataframe.copy()\n",
    "    encoded_y = encode_labels(encoded_y)\n",
    "    X=StandardScaler().fit_transform(dataframe.drop(dep_var, axis=1))\n",
    "    y=LabelEncoder().fit_transform(dataframe[dep_var].values)\n",
    "    start_time = time.time()\n",
    "    for index, (train_indices, val_indices) in enumerate(kfold.split(X, y)):\n",
    "        xtrain, xval = X[train_indices], X[val_indices]\n",
    "        ytrain, yval = encoded_y[train_indices], encoded_y[val_indices]\n",
    "        inputDim=xtrain.shape[1]\n",
    "        outputDim=ytrain.shape[1]\n",
    "        print(\"Running fold #\" + str(index+1))\n",
    "        model = TESTbaseline_model(inputDim,outputDim)    \n",
    "        time_gen = int(time.time())        \n",
    "        global model_name\n",
    "        model_name = f\"{dataFile}_{time_gen}\"\n",
    "        tensorboard = TensorBoard(log_dir='keras_tensorflow_logs/{}/{}_{}'.format(experimentTitle, model_name, model_extension),update_freq='epoch')\n",
    "        if early_stop:\n",
    "            callbacks = [tensorboard]\n",
    "        else:\n",
    "            callbacks = [tensorboard]\n",
    "        history = model.fit(xtrain, ytrain, epochs=epochs, validation_data=(xval,yval), callbacks=callbacks, batch_size=batch_size, verbose=0)        \n",
    "    global end_time \n",
    "    end_time = time.time() - start_time\n",
    "    TimeSetup = str(datetime.timedelta(seconds=end_time))\n",
    "    Minutes = int(end_time/60)\n",
    "    print(\"Time to complete {} [hour:min:sec]\".format(TimeSetup))    \n",
    "    return model, history, X, encoded_y"
   ]
  },
  {
   "cell_type": "code",
   "execution_count": 86,
   "metadata": {
    "colab": {
     "base_uri": "https://localhost:8080/",
     "height": 906
    },
    "colab_type": "code",
    "id": "TUw-9Oj_Ka6D",
    "outputId": "c757c7fd-4190-475c-e9d7-b5d6d520b666"
   },
   "outputs": [
    {
     "name": "stdout",
     "output_type": "stream",
     "text": [
      "Running fold #1\n",
      "Categorical Cross-Entropy Loss Function\n",
      "Running fold #2\n",
      "Categorical Cross-Entropy Loss Function\n",
      "Running fold #3\n",
      "Categorical Cross-Entropy Loss Function\n",
      "Running fold #4\n",
      "Categorical Cross-Entropy Loss Function\n",
      "Running fold #5\n",
      "Categorical Cross-Entropy Loss Function\n",
      "Running fold #6\n",
      "Categorical Cross-Entropy Loss Function\n",
      "Running fold #7\n",
      "Categorical Cross-Entropy Loss Function\n",
      "Running fold #8\n",
      "Categorical Cross-Entropy Loss Function\n",
      "Running fold #9\n",
      "Categorical Cross-Entropy Loss Function\n",
      "Running fold #10\n",
      "Categorical Cross-Entropy Loss Function\n",
      "Time to complete 0:26:02.112721 [hour:min:sec]\n"
     ]
    },
    {
     "data": {
      "image/png": "[encoded data removed]",
      "text/plain": [
       "<Figure size 432x288 with 1 Axes>"
      ]
     },
     "metadata": {
      "tags": []
     },
     "output_type": "display_data"
    },
    {
     "data": {
      "image/png": "[encoded data removed]",
      "text/plain": [
       "<Figure size 432x288 with 1 Axes>"
      ]
     },
     "metadata": {
      "tags": []
     },
     "output_type": "display_data"
    }
   ],
   "source": [
    "categorical_df = df1.copy()\n",
    "modelBL, BLhistory, BLX , BLencoded_y = BaseLine_experiment(categorical_df,early=True)\n",
    "plot_Experiment(BLhistory,.5)"
   ]
  },
  {
   "cell_type": "code",
   "execution_count": 87,
   "metadata": {
    "colab": {
     "base_uri": "https://localhost:8080/",
     "height": 88
    },
    "colab_type": "code",
    "id": "XtHJHwkAzf-k",
    "outputId": "85e8ad3c-5d0d-4fd3-92ff-fca814256b72"
   },
   "outputs": [
    {
     "name": "stdout",
     "output_type": "stream",
     "text": [
      "36697/36697 [==============================] - 1s 27us/sample - loss: 0.0261 - acc: 0.9920\n",
      "['loss', 'acc']\n",
      "Baseline: accuracy: 99.20%: loss: 0.03\n"
     ]
    }
   ],
   "source": [
    "scores = modelBL.evaluate(BLX,BLencoded_y, batch_size=batch_size,verbose=1)\n",
    "print(modelBL.metrics_names)\n",
    "acc, loss = scores[1]*100, scores[0]\n",
    "print('Baseline: accuracy: {:.2f}%: loss: {:.2f}'.format(acc, loss))"
   ]
  },
  {
   "cell_type": "markdown",
   "metadata": {
    "colab_type": "text",
    "id": "WXXi6jERgwja"
   },
   "source": [
    "##### Early Stop Implementation. "
   ]
  },
  {
   "cell_type": "code",
   "execution_count": 0,
   "metadata": {
    "colab": {},
    "colab_type": "code",
    "id": "ePBe4eNCD3OE"
   },
   "outputs": [],
   "source": [
    "def ESexperiment(dataframe, early=False):\n",
    "    kfold = StratifiedKFold(n_splits=10, shuffle=True, random_state=seed)\n",
    "    encoded_y = dataframe.copy()\n",
    "    encoded_y = encode_labels(encoded_y)\n",
    "    X=StandardScaler().fit_transform(dataframe.drop(dep_var, axis=1))\n",
    "    y=LabelEncoder().fit_transform(dataframe[dep_var].values)\n",
    "    start_time = time.time()\n",
    "    for index, (train_indices, val_indices) in enumerate(kfold.split(X, y)):\n",
    "        xtrain, xval = X[train_indices], X[val_indices]\n",
    "        ytrain, yval = encoded_y[train_indices], encoded_y[val_indices]\n",
    "        inputDim=xtrain.shape[1]\n",
    "        outputDim=ytrain.shape[1]\n",
    "        print(\"Running fold #\" + str(index+1))\n",
    "        model = TESTbaseline_model(inputDim,outputDim)    \n",
    "        time_gen = int(time.time())        \n",
    "        global model_name\n",
    "        model_name = f\"{dataFile}_{time_gen}\"\n",
    "        tensorboard = TensorBoard(log_dir='keras_tensorflow_logs/{}/{}_{}'.format(experimentTitle, model_name, model_extension),update_freq='epoch')\n",
    "        if early_stop:\n",
    "            callbacks = [tensorboard,early_stop]\n",
    "        else:\n",
    "            callbacks = [tensorboard, early_stop]\n",
    "        history = model.fit(xtrain, ytrain, epochs=epochs, validation_data=(xval,yval), callbacks=callbacks, batch_size=batch_size, verbose=0)        \n",
    "    global end_time \n",
    "    end_time = time.time() - start_time\n",
    "    TimeSetup = str(datetime.timedelta(seconds=end_time))\n",
    "    Minutes = int(end_time/60)\n",
    "    print(\"Time to complete {} [hour:min:sec]\".format(TimeSetup))    \n",
    "    return model, history, X, encoded_y"
   ]
  },
  {
   "cell_type": "code",
   "execution_count": 89,
   "metadata": {
    "colab": {
     "base_uri": "https://localhost:8080/",
     "height": 374
    },
    "colab_type": "code",
    "id": "iOUl3d7vERKW",
    "outputId": "540f0b71-c120-4af3-bd67-97043d648ca1"
   },
   "outputs": [
    {
     "name": "stdout",
     "output_type": "stream",
     "text": [
      "Running fold #1\n",
      "Categorical Cross-Entropy Loss Function\n",
      "Running fold #2\n",
      "Categorical Cross-Entropy Loss Function\n",
      "Running fold #3\n",
      "Categorical Cross-Entropy Loss Function\n",
      "Running fold #4\n",
      "Categorical Cross-Entropy Loss Function\n",
      "Running fold #5\n",
      "Categorical Cross-Entropy Loss Function\n",
      "Running fold #6\n",
      "Categorical Cross-Entropy Loss Function\n",
      "Running fold #7\n",
      "Categorical Cross-Entropy Loss Function\n",
      "Running fold #8\n",
      "Categorical Cross-Entropy Loss Function\n",
      "Running fold #9\n",
      "Categorical Cross-Entropy Loss Function\n",
      "Running fold #10\n",
      "Categorical Cross-Entropy Loss Function\n",
      "Time to complete 0:10:33.528763 [hour:min:sec]\n"
     ]
    }
   ],
   "source": [
    "categorical_df = df1.copy()\n",
    "modelES, EShistory, ESX , ESencoded_y = ESexperiment(categorical_df,early=True)"
   ]
  },
  {
   "cell_type": "code",
   "execution_count": 0,
   "metadata": {
    "colab": {},
    "colab_type": "code",
    "id": "LGPulWMSPqNM"
   },
   "outputs": [],
   "source": [
    "plot_Experiment(EShistory,.5)"
   ]
  },
  {
   "cell_type": "code",
   "execution_count": 91,
   "metadata": {
    "colab": {
     "base_uri": "https://localhost:8080/",
     "height": 88
    },
    "colab_type": "code",
    "id": "OS4DU8V7JI7w",
    "outputId": "af078e47-60be-49cf-faea-e6149f38713e"
   },
   "outputs": [
    {
     "name": "stdout",
     "output_type": "stream",
     "text": [
      "36697/36697 [==============================] - 1s 32us/sample - loss: 0.0558 - acc: 0.9838\n",
      "['loss', 'acc']\n",
      "Baseline: accuracy: 98.38%: loss: 0.06\n"
     ]
    }
   ],
   "source": [
    "scores = modelES.evaluate(ESX,ESencoded_y, batch_size=batch_size,verbose=1)\n",
    "print(modelES.metrics_names)\n",
    "acc, loss = scores[1]*100, scores[0]\n",
    "print('Baseline: accuracy: {:.2f}%: loss: {:.2f}'.format(acc, loss))"
   ]
  },
  {
   "cell_type": "markdown",
   "metadata": {
    "colab_type": "text",
    "id": "fl2OPf46jxaH"
   },
   "source": [
    "##### Add Dropout"
   ]
  },
  {
   "cell_type": "code",
   "execution_count": 0,
   "metadata": {
    "colab": {},
    "colab_type": "code",
    "id": "sWI-vBs-jzRw"
   },
   "outputs": [],
   "source": [
    "def Dropoutbaseline_model(inputDim=-1,outputDim=-1):\n",
    "    global model_extension, experimentTitle\n",
    "    model = tf.keras.Sequential([\n",
    "        Dense(128, activation='relu', input_shape=(inputDim,)),\n",
    "        BatchNormalization(),\n",
    "        Dropout(.5),\n",
    "        Dense(64, activation='relu'),\n",
    "        BatchNormalization(),\n",
    "        Dropout(.5),\n",
    "        Dense(outputDim, activation='softmax')\n",
    "    ]) #This is the output layer\n",
    "\n",
    "    if outputDim > 2:\n",
    "        print('Categorical Cross-Entropy Loss Function')\n",
    "        model_extension = \"_categorical\"\n",
    "        experimentTitle = \"Categorical\"\n",
    "        model.compile(optimizer='adam',\n",
    "                 loss='categorical_crossentropy',\n",
    "                 metrics=['accuracy'])\n",
    "    else:\n",
    "        print('Binary Cross-Entropy Loss Function')\n",
    "        model_extension = \"_binary\"\n",
    "        experimentTitle = \"Binary\"\n",
    "        model.compile(optimizer='adam',\n",
    "                loss='binary_crossentropy',\n",
    "                metrics=['accuracy'])\n",
    "def DPexperiment(dataframe, early=False):\n",
    "    kfold = StratifiedKFold(n_splits=10, shuffle=True, random_state=seed)\n",
    "    encoded_y = dataframe.copy()\n",
    "    encoded_y = encode_labels(encoded_y)\n",
    "    X=StandardScaler().fit_transform(dataframe.drop(dep_var, axis=1))\n",
    "    y=LabelEncoder().fit_transform(dataframe[dep_var].values)\n",
    "    start_time = time.time()\n",
    "    for index, (train_indices, val_indices) in enumerate(kfold.split(X, y)):\n",
    "        xtrain, xval = X[train_indices], X[val_indices]\n",
    "        ytrain, yval = encoded_y[train_indices], encoded_y[val_indices]\n",
    "        inputDim=xtrain.shape[1]\n",
    "        outputDim=ytrain.shape[1]\n",
    "        print(\"Running fold #\" + str(index+1))\n",
    "        model = TESTbaseline_model(inputDim,outputDim)    \n",
    "        time_gen = int(time.time())        \n",
    "        global model_name\n",
    "        model_name = f\"{dataFile}_{time_gen}\"\n",
    "        tensorboard = TensorBoard(log_dir='keras_tensorflow_logs/{}/{}_{}'.format(experimentTitle, model_name, model_extension),update_freq='epoch')\n",
    "        if early_stop:\n",
    "            callbacks = [tensorboard,early_stop]\n",
    "        else:\n",
    "            callbacks = [tensorboard, early_stop]\n",
    "        history = model.fit(xtrain, ytrain, epochs=epochs, validation_data=(xval,yval), callbacks=callbacks, batch_size=batch_size, verbose=0)        \n",
    "    global end_time \n",
    "    end_time = time.time() - start_time\n",
    "    TimeSetup = str(datetime.timedelta(seconds=end_time))\n",
    "    Minutes = int(end_time/60)\n",
    "    print(\"Time to complete {} [hour:min:sec]\".format(TimeSetup))    \n",
    "    return model, history, X, encoded_y"
   ]
  },
  {
   "cell_type": "code",
   "execution_count": 93,
   "metadata": {
    "colab": {
     "base_uri": "https://localhost:8080/",
     "height": 374
    },
    "colab_type": "code",
    "id": "mqLoSFcWkOyS",
    "outputId": "14a11416-0ebe-40df-9729-3f6c4d5df6d5"
   },
   "outputs": [
    {
     "name": "stdout",
     "output_type": "stream",
     "text": [
      "Running fold #1\n",
      "Categorical Cross-Entropy Loss Function\n",
      "Running fold #2\n",
      "Categorical Cross-Entropy Loss Function\n",
      "Running fold #3\n",
      "Categorical Cross-Entropy Loss Function\n",
      "Running fold #4\n",
      "Categorical Cross-Entropy Loss Function\n",
      "Running fold #5\n",
      "Categorical Cross-Entropy Loss Function\n",
      "Running fold #6\n",
      "Categorical Cross-Entropy Loss Function\n",
      "Running fold #7\n",
      "Categorical Cross-Entropy Loss Function\n",
      "Running fold #8\n",
      "Categorical Cross-Entropy Loss Function\n",
      "Running fold #9\n",
      "Categorical Cross-Entropy Loss Function\n",
      "Running fold #10\n",
      "Categorical Cross-Entropy Loss Function\n",
      "Time to complete 0:15:23.401620 [hour:min:sec]\n"
     ]
    }
   ],
   "source": [
    "categorical_df = df1.copy()\n",
    "modelDropout, DropOuthistory, DPX , DPencoded_y = DPexperiment(categorical_df,early=True)"
   ]
  },
  {
   "cell_type": "code",
   "execution_count": 95,
   "metadata": {
    "colab": {
     "base_uri": "https://localhost:8080/",
     "height": 549
    },
    "colab_type": "code",
    "id": "ntquWQdzkVH7",
    "outputId": "b4174bac-8c1f-4ec1-c76a-64e1a2463676"
   },
   "outputs": [
    {
     "data": {
      "image/png": "[encoded data removed]",
      "text/plain": [
       "<Figure size 432x288 with 1 Axes>"
      ]
     },
     "metadata": {
      "tags": []
     },
     "output_type": "display_data"
    },
    {
     "data": {
      "image/png": "[encoded data removed]",
      "text/plain": [
       "<Figure size 432x288 with 1 Axes>"
      ]
     },
     "metadata": {
      "tags": []
     },
     "output_type": "display_data"
    }
   ],
   "source": [
    " \n",
    "plot_Experiment(DropOuthistory,5)"
   ]
  },
  {
   "cell_type": "code",
   "execution_count": 96,
   "metadata": {
    "colab": {
     "base_uri": "https://localhost:8080/",
     "height": 88
    },
    "colab_type": "code",
    "id": "8xSpHjETkw6E",
    "outputId": "eb459922-76ec-469c-c3bc-a6fc07d8b35b"
   },
   "outputs": [
    {
     "name": "stdout",
     "output_type": "stream",
     "text": [
      "36697/36697 [==============================] - 1s 37us/sample - loss: 0.0426 - acc: 0.9862\n",
      "['loss', 'acc']\n",
      "Baseline: accuracy: 98.62%: loss: 0.04\n"
     ]
    }
   ],
   "source": [
    "scores = modelDropout.evaluate(DPX,DPencoded_y, batch_size=batch_size,verbose=1)\n",
    "print(modelDropout.metrics_names)\n",
    "acc, loss = scores[1]*100, scores[0]\n",
    "print('Baseline: accuracy: {:.2f}%: loss: {:.2f}'.format(acc, loss))"
   ]
  },
  {
   "cell_type": "markdown",
   "metadata": {
    "colab_type": "text",
    "id": "b2qVnfHf0wzA"
   },
   "source": [
    "##### Add weight regularization"
   ]
  },
  {
   "cell_type": "code",
   "execution_count": 0,
   "metadata": {
    "colab": {},
    "colab_type": "code",
    "id": "YShFPePD0zEL"
   },
   "outputs": [],
   "source": [
    "def Regularize_Model(inputDim=-1,outputDim=-1):\n",
    "  global model_extensionR, Experiment_TitleR\n",
    "  model = tf.keras.Sequential([\n",
    "        Dense(128, kernel_regularizer=keras.regularizers.l2(0.001), activation='relu',input_shape=(inputDim,)),\n",
    "        BatchNormalization(),\n",
    "        Dense(64, activation='relu', kernel_regularizer=keras.regularizers.l2(0.001)),\n",
    "        BatchNormalization(),\n",
    "        Dense(outputDim, activation='softmax')\n",
    "    ])\n",
    "  if outputDim > 2:\n",
    "        print('Categorical Cross-Entropy Loss Function')\n",
    "        model_extension = \"_categorical\"\n",
    "        experimentTitle = \"Categorical\"\n",
    "        model.compile(optimizer='adam',\n",
    "                 loss='categorical_crossentropy',\n",
    "                 metrics=['accuracy'])\n",
    "  else:\n",
    "      print('Binary Cross-Entropy Loss Function')\n",
    "      model_extension = \"_binary\"\n",
    "      experimentTitle = \"Binary\"\n",
    "      model.compile(optimizer='adam',\n",
    "              loss='binary_crossentropy',\n",
    "              metrics=['accuracy'])\n",
    "  return model\n",
    "  "
   ]
  },
  {
   "cell_type": "code",
   "execution_count": 0,
   "metadata": {
    "colab": {},
    "colab_type": "code",
    "id": "6kwfWUu83GQh"
   },
   "outputs": [],
   "source": [
    "def L2experiment(dataframe, early=False):\n",
    "    kfold = StratifiedKFold(n_splits=10, shuffle=True, random_state=seed)\n",
    "    encoded_y = dataframe.copy()\n",
    "    encoded_y = encode_labels(encoded_y)\n",
    "    X=StandardScaler().fit_transform(dataframe.drop(dep_var, axis=1))\n",
    "    y=LabelEncoder().fit_transform(dataframe[dep_var].values)\n",
    "    start_time = time.time()\n",
    "    for index, (train_indices, val_indices) in enumerate(kfold.split(X, y)):\n",
    "        xtrain, xval = X[train_indices], X[val_indices]\n",
    "        ytrain, yval = encoded_y[train_indices], encoded_y[val_indices]\n",
    "        inputDim=xtrain.shape[1]\n",
    "        outputDim=ytrain.shape[1]\n",
    "        print(\"Running fold #\" + str(index+1))\n",
    "        model = Regularize_Model(inputDim,outputDim)    \n",
    "        time_gen = int(time.time())        \n",
    "        global model_name\n",
    "        model_name = f\"{dataFile}_{time_gen}\"\n",
    "        tensorboard = TensorBoard(log_dir='keras_tensorflow_logs/{}/{}_{}'.format(experimentTitle, model_name, model_extension),update_freq='epoch')\n",
    "        if early_stop:\n",
    "            callbacks = [tensorboard,early_stop]\n",
    "        else:\n",
    "            callbacks = [tensorboard, early_stop]\n",
    "        history = model.fit(xtrain, ytrain, epochs=epochs, validation_data=(xval,yval), callbacks=callbacks, batch_size=batch_size, verbose=0)        \n",
    "    global end_time \n",
    "    end_time = time.time() - start_time\n",
    "    TimeSetup = str(datetime.timedelta(seconds=end_time))\n",
    "    Minutes = int(end_time/60)\n",
    "    print(\"Time to complete {} [hour:min:sec]\".format(TimeSetup))    \n",
    "    return model, history, X, encoded_y"
   ]
  },
  {
   "cell_type": "code",
   "execution_count": 99,
   "metadata": {
    "colab": {
     "base_uri": "https://localhost:8080/",
     "height": 374
    },
    "colab_type": "code",
    "id": "MKsibcYj3gYr",
    "outputId": "c8fce321-d464-4df8-f9c4-08771ffd4894"
   },
   "outputs": [
    {
     "name": "stdout",
     "output_type": "stream",
     "text": [
      "Running fold #1\n",
      "Categorical Cross-Entropy Loss Function\n",
      "Running fold #2\n",
      "Categorical Cross-Entropy Loss Function\n",
      "Running fold #3\n",
      "Categorical Cross-Entropy Loss Function\n",
      "Running fold #4\n",
      "Categorical Cross-Entropy Loss Function\n",
      "Running fold #5\n",
      "Categorical Cross-Entropy Loss Function\n",
      "Running fold #6\n",
      "Categorical Cross-Entropy Loss Function\n",
      "Running fold #7\n",
      "Categorical Cross-Entropy Loss Function\n",
      "Running fold #8\n",
      "Categorical Cross-Entropy Loss Function\n",
      "Running fold #9\n",
      "Categorical Cross-Entropy Loss Function\n",
      "Running fold #10\n",
      "Categorical Cross-Entropy Loss Function\n",
      "Time to complete 0:12:03.167546 [hour:min:sec]\n"
     ]
    }
   ],
   "source": [
    "categorical_df = df1.copy()\n",
    "modelReg, Reghistory, RegX , Regencoded_y = L2experiment(categorical_df,early=True)"
   ]
  },
  {
   "cell_type": "code",
   "execution_count": 100,
   "metadata": {
    "colab": {
     "base_uri": "https://localhost:8080/",
     "height": 88
    },
    "colab_type": "code",
    "id": "AGTYU3bw3pip",
    "outputId": "21569b39-7950-4022-c973-2fad07ba174d"
   },
   "outputs": [
    {
     "name": "stdout",
     "output_type": "stream",
     "text": [
      "36697/36697 [==============================] - 2s 43us/sample - loss: 0.1510 - acc: 0.9713\n",
      "['loss', 'acc']\n",
      "Baseline: accuracy: 97.13%: loss: 0.15\n"
     ]
    }
   ],
   "source": [
    "scores = modelReg.evaluate(RegX,Regencoded_y, batch_size=batch_size,verbose=1)\n",
    "print(modelReg.metrics_names)\n",
    "acc, loss = scores[1]*100, scores[0]\n",
    "print('Baseline: accuracy: {:.2f}%: loss: {:.2f}'.format(acc, loss))"
   ]
  },
  {
   "cell_type": "markdown",
   "metadata": {
    "colab_type": "text",
    "id": "LTi8_aKlFlFY"
   },
   "source": [
    "##### Save Models"
   ]
  },
  {
   "cell_type": "code",
   "execution_count": 0,
   "metadata": {
    "colab": {},
    "colab_type": "code",
    "id": "QlyVbgoyFoeD"
   },
   "outputs": [],
   "source": [
    "modelReg.save('{}.model'.format(\"Regularization\"))\n",
    "modelDropout.save('{}.model'.format(\"DropOut\"))\n",
    "modelES.save('{}.model'.format(\"Early_Stop\"))\n",
    "modelBL.save('{}.model'.format(\"Base_Line\"))"
   ]
  },
  {
   "cell_type": "markdown",
   "metadata": {
    "colab_type": "text",
    "id": "QxvO-5wqplx1"
   },
   "source": [
    "### Run the experiment"
   ]
  },
  {
   "cell_type": "code",
   "execution_count": 114,
   "metadata": {
    "colab": {
     "base_uri": "https://localhost:8080/",
     "height": 374
    },
    "colab_type": "code",
    "id": "wDKDVrhZplx2",
    "outputId": "8fefe520-f4e7-4f38-b7fc-4160ab8632f3",
    "scrolled": false
   },
   "outputs": [
    {
     "name": "stdout",
     "output_type": "stream",
     "text": [
      "Running fold #1\n",
      "Categorical Cross-Entropy Loss Function\n",
      "Running fold #2\n",
      "Categorical Cross-Entropy Loss Function\n",
      "Running fold #3\n",
      "Categorical Cross-Entropy Loss Function\n",
      "Running fold #4\n",
      "Categorical Cross-Entropy Loss Function\n",
      "Running fold #5\n",
      "Categorical Cross-Entropy Loss Function\n",
      "Running fold #6\n",
      "Categorical Cross-Entropy Loss Function\n",
      "Running fold #7\n",
      "Categorical Cross-Entropy Loss Function\n",
      "Running fold #8\n",
      "Categorical Cross-Entropy Loss Function\n",
      "Running fold #9\n",
      "Categorical Cross-Entropy Loss Function\n",
      "Running fold #10\n",
      "Categorical Cross-Entropy Loss Function\n",
      "Time to complete 0:32:34.088277 [hour:min:sec]\n"
     ]
    }
   ],
   "source": [
    "categorical_df = df1.copy()\n",
    "model, history, X , encoded_y, tTime = experiment(categorical_df, early=True)"
   ]
  },
  {
   "cell_type": "markdown",
   "metadata": {
    "colab_type": "text",
    "id": "FoHKjaqpGQub"
   },
   "source": [
    "#### Save the model as a file"
   ]
  },
  {
   "cell_type": "code",
   "execution_count": 0,
   "metadata": {
    "colab": {},
    "colab_type": "code",
    "id": "vixNeoaEGW9n"
   },
   "outputs": [],
   "source": [
    "model.save('{}.model'.format(os.path.basename(dataPath)))"
   ]
  },
  {
   "cell_type": "markdown",
   "metadata": {
    "colab_type": "text",
    "id": "R1VG5cxSplyA"
   },
   "source": [
    "### Model Results"
   ]
  },
  {
   "cell_type": "code",
   "execution_count": 104,
   "metadata": {
    "colab": {
     "base_uri": "https://localhost:8080/",
     "height": 88
    },
    "colab_type": "code",
    "id": "p3xvC6ZlG9Wz",
    "outputId": "18e11d91-40cc-4102-bfed-469fa46444bd"
   },
   "outputs": [
    {
     "name": "stdout",
     "output_type": "stream",
     "text": [
      "36697/36697 [==============================] - 2s 45us/sample - loss: 0.1322 - acc: 0.9553\n",
      "['loss', 'acc']\n",
      "Baseline: accuracy: 95.53%: loss: 0.13\n"
     ]
    }
   ],
   "source": [
    "scores = model.evaluate(X,encoded_y, batch_size=batch_size,verbose=1)\n",
    "print(model.metrics_names)\n",
    "acc, loss = scores[1]*100, scores[0]\n",
    "print('Baseline: accuracy: {:.2f}%: loss: {:.2f}'.format(acc, loss))"
   ]
  },
  {
   "cell_type": "markdown",
   "metadata": {
    "colab_type": "text",
    "id": "hlNdQsyiplyF"
   },
   "source": [
    "#### Generate predictions from the model"
   ]
  },
  {
   "cell_type": "code",
   "execution_count": 105,
   "metadata": {
    "colab": {
     "base_uri": "https://localhost:8080/",
     "height": 34
    },
    "colab_type": "code",
    "id": "a0jLyQXHplyG",
    "outputId": "d0b9ed32-6454-47d5-b769-4c4113a22c46"
   },
   "outputs": [
    {
     "name": "stdout",
     "output_type": "stream",
     "text": [
      "36697/36697 [==============================] - 3s 72us/sample\n"
     ]
    }
   ],
   "source": [
    "prediction_y = model.predict_classes(X, batch_size=batch_size, verbose=1)"
   ]
  },
  {
   "cell_type": "markdown",
   "metadata": {
    "colab_type": "text",
    "id": "44-OsF7tplyK"
   },
   "source": [
    "#### Confusion Matrix"
   ]
  },
  {
   "cell_type": "code",
   "execution_count": 106,
   "metadata": {
    "colab": {
     "base_uri": "https://localhost:8080/",
     "height": 286
    },
    "colab_type": "code",
    "id": "xjsWSmWvplyM",
    "outputId": "fb45ef78-80d7-401d-a980-8123885b3513"
   },
   "outputs": [
    {
     "data": {
      "text/plain": [
       "<matplotlib.axes._subplots.AxesSubplot at 0x7f593e990c18>"
      ]
     },
     "execution_count": 106,
     "metadata": {
      "tags": []
     },
     "output_type": "execute_result"
    },
    {
     "data": {
      "image/png": "[encoded data removed]",
      "text/plain": [
       "<Figure size 432x288 with 2 Axes>"
      ]
     },
     "metadata": {
      "tags": []
     },
     "output_type": "display_data"
    }
   ],
   "source": [
    "y=LabelEncoder().fit_transform(categorical_df[dep_var].values)\n",
    "cm = confusion_matrix(y, prediction_y)\n",
    "sn.heatmap(cm, annot=True, fmt='g', cmap='Blues', xticklabels=['Defacement','Benign','Malware','Phishing','Spam'],\n",
    "           yticklabels=['Defacement','Benign','Malware','Phishing','Spam'])"
   ]
  },
  {
   "cell_type": "markdown",
   "metadata": {
    "colab_type": "text",
    "id": "UeVn3oV7plyQ"
   },
   "source": [
    "#### Graph of Categorical Cross-Entropy Model"
   ]
  },
  {
   "cell_type": "code",
   "execution_count": 107,
   "metadata": {
    "colab": {
     "base_uri": "https://localhost:8080/",
     "height": 295
    },
    "colab_type": "code",
    "id": "GzH_f_T3plyU",
    "outputId": "5996d994-248a-4752-d2b8-b67bfff86b5d"
   },
   "outputs": [
    {
     "data": {
      "image/png": "[encoded data removed]",
      "text/plain": [
       "<Figure size 432x288 with 1 Axes>"
      ]
     },
     "metadata": {
      "tags": []
     },
     "output_type": "display_data"
    }
   ],
   "source": [
    "plotAccuracy('Categorical Model Accuracy')"
   ]
  },
  {
   "cell_type": "code",
   "execution_count": 108,
   "metadata": {
    "colab": {
     "base_uri": "https://localhost:8080/",
     "height": 295
    },
    "colab_type": "code",
    "id": "_hdnJn-I--5w",
    "outputId": "9c49689b-b8fd-4daa-8879-8bb3a622ba2c",
    "scrolled": true
   },
   "outputs": [
    {
     "data": {
      "image/png": "[encoded data removed]",
      "text/plain": [
       "<Figure size 432x288 with 1 Axes>"
      ]
     },
     "metadata": {
      "tags": []
     },
     "output_type": "display_data"
    }
   ],
   "source": [
    "plotLoss('Categorical Model Loss')"
   ]
  },
  {
   "cell_type": "code",
   "execution_count": 117,
   "metadata": {
    "colab": {
     "base_uri": "https://localhost:8080/",
     "height": 549
    },
    "colab_type": "code",
    "id": "KQTabk5aJFHR",
    "outputId": "aa2e05df-0804-4611-ea88-e1f3bd7aa9f6"
   },
   "outputs": [
    {
     "data": {
      "image/png": "[encoded data removed]",
      "text/plain": [
       "<Figure size 432x288 with 1 Axes>"
      ]
     },
     "metadata": {
      "tags": []
     },
     "output_type": "display_data"
    },
    {
     "data": {
      "image/png": "[encoded data removed]",
      "text/plain": [
       "<Figure size 432x288 with 1 Axes>"
      ]
     },
     "metadata": {
      "tags": []
     },
     "output_type": "display_data"
    }
   ],
   "source": [
    "plot_Experiment(history, 5)"
   ]
  },
  {
   "cell_type": "markdown",
   "metadata": {
    "colab_type": "text",
    "id": "XtWNPIlMplyY"
   },
   "source": [
    "### Write results to file"
   ]
  },
  {
   "cell_type": "code",
   "execution_count": 0,
   "metadata": {
    "colab": {},
    "colab_type": "code",
    "id": "_YP-tODMplyZ"
   },
   "outputs": [],
   "source": [
    "\n",
    "def saveLog():\n",
    "    resultFile = os.path.join(resultPath, dataFile)\n",
    "    with open('{}.result'.format(resultFile), 'a') as fout:\n",
    "        fout.write('{} results...'.format(model_name+model_extension))\n",
    "        fout.write('\\taccuracy: {:.2f} loss: {:.2f} time_elapsed: {} [hr:min:sec] \\n'.format(acc, loss,tTime ))"
   ]
  },
  {
   "cell_type": "code",
   "execution_count": 0,
   "metadata": {
    "colab": {},
    "colab_type": "code",
    "id": "NzeDeFBV--6B"
   },
   "outputs": [],
   "source": [
    "saveLog()"
   ]
  },
  {
   "cell_type": "markdown",
   "metadata": {
    "colab_type": "text",
    "id": "HoJYzC0NjTZJ"
   },
   "source": []
  },
  {
   "cell_type": "markdown",
   "metadata": {
    "colab_type": "text",
    "id": "aOJNLEDfplyc"
   },
   "source": [
    "## Binary Classification of Labels\n",
    "> Change all malicious labels to value 1 and benign label to 0"
   ]
  },
  {
   "cell_type": "markdown",
   "metadata": {
    "colab_type": "text",
    "id": "QH5SPeyD1zUX"
   },
   "source": [
    "### Binarize Data"
   ]
  },
  {
   "cell_type": "code",
   "execution_count": 0,
   "metadata": {
    "colab": {},
    "colab_type": "code",
    "id": "QzpGC1TYplyd"
   },
   "outputs": [],
   "source": [
    "lblTypes = list(lblTypes)\n",
    "lblTypes = dict(zip(lblTypes, [1, 1, 1, 1, 1]))\n",
    "lblTypes['benign'] = 0"
   ]
  },
  {
   "cell_type": "code",
   "execution_count": 0,
   "metadata": {
    "colab": {},
    "colab_type": "code",
    "id": "IQ5kYPnTplyg"
   },
   "outputs": [],
   "source": [
    "binary_df = df1.copy()\n",
    "binary_df[label] = binary_df[label].map(lblTypes)"
   ]
  },
  {
   "cell_type": "markdown",
   "metadata": {
    "colab_type": "text",
    "id": "taziMECuplyj"
   },
   "source": [
    "### Train the Binary Model"
   ]
  },
  {
   "cell_type": "code",
   "execution_count": 122,
   "metadata": {
    "colab": {
     "base_uri": "https://localhost:8080/",
     "height": 445
    },
    "colab_type": "code",
    "id": "llXRdiQ1plyk",
    "outputId": "ff5b00f4-c6bc-4256-f9ba-73b6d8f60f79"
   },
   "outputs": [
    {
     "name": "stdout",
     "output_type": "stream",
     "text": [
      "Running fold #1\n"
     ]
    },
    {
     "name": "stderr",
     "output_type": "stream",
     "text": [
      "W0731 01:50:57.923707 140023254493056 deprecation.py:323] From /usr/local/lib/python3.6/dist-packages/tensorflow/python/ops/math_grad.py:1250: add_dispatch_support.<locals>.wrapper (from tensorflow.python.ops.array_ops) is deprecated and will be removed in a future version.\n",
      "Instructions for updating:\n",
      "Use tf.where in 2.0, which has the same broadcast rule as np.where\n"
     ]
    },
    {
     "name": "stdout",
     "output_type": "stream",
     "text": [
      "Binary Cross-Entropy Loss Function\n",
      "Running fold #2\n",
      "Binary Cross-Entropy Loss Function\n",
      "Running fold #3\n",
      "Binary Cross-Entropy Loss Function\n",
      "Running fold #4\n",
      "Binary Cross-Entropy Loss Function\n",
      "Running fold #5\n",
      "Binary Cross-Entropy Loss Function\n",
      "Running fold #6\n",
      "Binary Cross-Entropy Loss Function\n",
      "Running fold #7\n",
      "Binary Cross-Entropy Loss Function\n",
      "Running fold #8\n",
      "Binary Cross-Entropy Loss Function\n",
      "Running fold #9\n",
      "Binary Cross-Entropy Loss Function\n",
      "Running fold #10\n",
      "Binary Cross-Entropy Loss Function\n",
      "Time to complete 0:25:22.330827 [hour:min:sec]\n"
     ]
    }
   ],
   "source": [
    "model, history, X , encoded_y, tTime = experiment(binary_df)"
   ]
  },
  {
   "cell_type": "markdown",
   "metadata": {
    "colab_type": "text",
    "id": "Ta-ruG0K1eVN"
   },
   "source": [
    "### Model Results"
   ]
  },
  {
   "cell_type": "code",
   "execution_count": 123,
   "metadata": {
    "colab": {
     "base_uri": "https://localhost:8080/",
     "height": 88
    },
    "colab_type": "code",
    "id": "6FV5LefXplyt",
    "outputId": "a71d3e5d-36ec-4e63-ebdd-ac5b057e187f"
   },
   "outputs": [
    {
     "name": "stdout",
     "output_type": "stream",
     "text": [
      "36697/36697 [==============================] - 4s 115us/sample - loss: 0.0441 - acc: 0.9862\n",
      "['loss', 'acc']\n",
      "Baseline: accuracy: 98.62%: loss: 0.04\n"
     ]
    }
   ],
   "source": [
    "scores = model.evaluate(X,encoded_y, verbose=1)\n",
    "print(model.metrics_names)\n",
    "acc, loss = scores[1]*100, scores[0]\n",
    "print('Baseline: accuracy: {:.2f}%: loss: {:.2f}'.format(acc, loss))"
   ]
  },
  {
   "cell_type": "markdown",
   "metadata": {
    "colab_type": "text",
    "id": "DviMoEPX1hxZ"
   },
   "source": [
    "#### Predictions"
   ]
  },
  {
   "cell_type": "code",
   "execution_count": 124,
   "metadata": {
    "colab": {
     "base_uri": "https://localhost:8080/",
     "height": 34
    },
    "colab_type": "code",
    "id": "0kU7Ncq7ply2",
    "outputId": "d1d227e1-20b2-415d-a983-1c29baedb02e"
   },
   "outputs": [
    {
     "name": "stdout",
     "output_type": "stream",
     "text": [
      "36697/36697 [==============================] - 4s 106us/sample\n"
     ]
    }
   ],
   "source": [
    "prediction_y = model.predict_classes(X, batch_size=batch_size, verbose=1)"
   ]
  },
  {
   "cell_type": "code",
   "execution_count": 125,
   "metadata": {
    "colab": {
     "base_uri": "https://localhost:8080/",
     "height": 286
    },
    "colab_type": "code",
    "id": "0T2dZA9Nply8",
    "outputId": "c01b1cd1-dd0c-44ce-af0a-59599b9807d5"
   },
   "outputs": [
    {
     "data": {
      "text/plain": [
       "<matplotlib.axes._subplots.AxesSubplot at 0x7f59308fbda0>"
      ]
     },
     "execution_count": 125,
     "metadata": {
      "tags": []
     },
     "output_type": "execute_result"
    },
    {
     "data": {
      "image/png": "[encoded data removed]",
      "text/plain": [
       "<Figure size 432x288 with 2 Axes>"
      ]
     },
     "metadata": {
      "tags": []
     },
     "output_type": "display_data"
    }
   ],
   "source": [
    "y=LabelEncoder().fit_transform(binary_df[dep_var].values)\n",
    "cm = confusion_matrix(y, prediction_y)\n",
    "sn.heatmap(cm, cmap='Blues', annot=True, fmt='g', xticklabels=['Benign', 'Malicious'],\n",
    "        yticklabels=['Benign', 'Malicious'])"
   ]
  },
  {
   "cell_type": "markdown",
   "metadata": {
    "colab_type": "text",
    "id": "4YdW3jb8plzB"
   },
   "source": [
    "#### Graph of Binary Cross-Entropy Model"
   ]
  },
  {
   "cell_type": "code",
   "execution_count": 126,
   "metadata": {
    "colab": {
     "base_uri": "https://localhost:8080/",
     "height": 295
    },
    "colab_type": "code",
    "id": "AzeLN1BSplzC",
    "outputId": "36e325d5-77dc-4834-e402-22aa4e7ae855"
   },
   "outputs": [
    {
     "data": {
      "image/png": "[encoded data removed]",
      "text/plain": [
       "<Figure size 432x288 with 1 Axes>"
      ]
     },
     "metadata": {
      "tags": []
     },
     "output_type": "display_data"
    }
   ],
   "source": [
    "plotAccuracy('Binary Model Accuracy')"
   ]
  },
  {
   "cell_type": "code",
   "execution_count": 127,
   "metadata": {
    "colab": {
     "base_uri": "https://localhost:8080/",
     "height": 295
    },
    "colab_type": "code",
    "id": "FObJJIn9--7X",
    "outputId": "54a30914-5d63-4b15-c8d4-d6669fc2db16"
   },
   "outputs": [
    {
     "data": {
      "image/png": "[encoded data removed]",
      "text/plain": [
       "<Figure size 432x288 with 1 Axes>"
      ]
     },
     "metadata": {
      "tags": []
     },
     "output_type": "display_data"
    }
   ],
   "source": [
    "plotLoss('Binary Model Loss')"
   ]
  },
  {
   "cell_type": "markdown",
   "metadata": {
    "colab_type": "text",
    "id": "A8Il5_kL1oQt"
   },
   "source": [
    "### Write Results to File"
   ]
  },
  {
   "cell_type": "code",
   "execution_count": 0,
   "metadata": {
    "colab": {},
    "colab_type": "code",
    "id": "Qz6wRy6GplzH"
   },
   "outputs": [],
   "source": [
    "saveLog()"
   ]
  },
  {
   "cell_type": "code",
   "execution_count": 0,
   "metadata": {
    "colab": {},
    "colab_type": "code",
    "id": "g-SU-b-6--7k"
   },
   "outputs": [],
   "source": []
  }
 ],
 "metadata": {
  "colab": {
   "collapsed_sections": [],
   "include_colab_link": true,
   "name": "Keras-Tensorflow-Experiments.ipynb",
   "provenance": [],
   "version": "0.3.2"
  },
  "kernelspec": {
   "display_name": "Python 3",
   "language": "python",
   "name": "python3"
  },
  "language_info": {
   "codemirror_mode": {
    "name": "ipython",
    "version": 3
   },
   "file_extension": ".py",
   "mimetype": "text/x-python",
   "name": "python",
   "nbconvert_exporter": "python",
   "pygments_lexer": "ipython3",
   "version": "3.7.2"
  }
 },
 "nbformat": 4,
 "nbformat_minor": 1
}
